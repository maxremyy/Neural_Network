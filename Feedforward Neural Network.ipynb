{
 "cells": [
  {
   "cell_type": "markdown",
   "id": "be031f17-fd89-44cd-9fd0-6ad98de68e56",
   "metadata": {},
   "source": [
    "## **Feedforward Neural Network using the Fashion-MNIST Dataset**"
   ]
  },
  {
   "cell_type": "markdown",
   "id": "ef8c1013-950e-4607-a159-6a1e7c7b8513",
   "metadata": {},
   "source": [
    "**Project Description:**\n",
    "- In this project, a **feedforward neural network** will be created, which will be capable of correctly **classifying 10 different types of clothing**.\n",
    "\n",
    "**The Dataset:**\n",
    "- **Fashion-MNIST** is a dataset of Zalando's article images, consisting of a **training set of 60,000 examples** and a **test set of 10,000 examples**. Each example is a **28x28 grayscale image**, associated with a label from 10 classes. \n",
    "- The value **0 represents black**, the value **255 white**. All values in between are the shades of gray.\n",
    "- The numbers are assosited with the clothing as followed: **0 T-shirt/top, 1 Trouser, 2 Pullover, 3 Dress, 4 Coat, 5 Sandal, 6 Shirt, 7 Sneaker, 8 Bag, 9 Ankle boot**\n",
    "- [Fashion-MNIST](https://www.kaggle.com/datasets/zalando-research/fashionmnist?resource=download)\n",
    "\n",
    "**Tensorflow und Kera:**\n",
    "- At its core, **TensorFlow** consists of a system for **defining computations as graphs of data flows**. These graphs represent mathematical operations, while the nodes in the graph represent the multidimensional data arrays (tensors) that flow between them. Hence the name \"TensorFlow.\" TensorFlow is particularly **well-known** for its capabilities in the area of **deep learning**.\n",
    "- Although **Keras** was originally developed independently of TensorFlow, Google later integrated Keras into TensorFlow. Keras **abstracts the complexity of TensorFlow**. It provides a **simplified, highly modular interface** that allows developers to build, train, and evaluate complete neural networks with just a few lines of code. Because Keras serves as an interface it is also referred to as an **API** (within TensorFlow).\n",
    "- [Tensorflow & Keras Link](https://www.tensorflow.org/guide/basics)\n",
    "\n",
    "**Sources**:\n",
    "- [3Blue1Brown](https://www.youtube.com/watch?v=aircAruvnKk&list=PLZHQObOWTQDNU6R1_67000Dx_ZCJB-3pi&index=2) (2018), *Neural Networks Series*\n",
    "- [Dataquest](https://www.youtube.com/watch?v=9xcky8jXQAM&list=PL6UJrXaOPPcEesMFPaieQJwnBvKiRH2tT&index=25) (2023), *Image Classification With Deep Learning And Tensorflow: Intro Project*\n",
    "- [kifueralle](https://github.com/kifueralle/KIfueralleYoutube/blob/master/IN%205%20MINUTEN%20KI%20PROGRAMMIEREN%20-%20KI%20f%C3%BCr%20alle!%20-%20Ziffern%20erkennen%20mit%20NEURONALEN%20NETZEN.ipynb) (2019), *Erstes Neuronales Netz - MNIST*\n",
    "- [Zalando Research]([https://www.kaggle.com/datasets/zalando-research) (2018), *Fashion MNIST*\n",
    "\r\n",
    "\n",
    "\n",
    "**Table of Contents**:\n",
    "- **1. The Dataset**\n",
    "- 1.1 Dataset Structure\n",
    "- *Excursion into Numpy Arrays*\n",
    "- 1.2 Dataset Analysis\n",
    "- **2.Model Creation**\n",
    "- 2.1 Data Normalization\n",
    "- 2.2 Model Creation\n",
    "- *Excursion into Overfitting*\n",
    "- **3. Model Evaluation**\n",
    "- 3.1 Model Assessment\n",
    "- 3.2  Prediction of a Custom Image"
   ]
  },
  {
   "cell_type": "markdown",
   "id": "5a619840-05c7-4a0a-ad93-838754d7d460",
   "metadata": {},
   "source": [
    "### **1. The Dataset**"
   ]
  },
  {
   "cell_type": "markdown",
   "id": "36251fe7-6d96-45da-9cd1-58b732a7b155",
   "metadata": {},
   "source": [
    "#### 1.1 Dataset Structuree"
   ]
  },
  {
   "cell_type": "markdown",
   "id": "40a3cd75-d523-47e3-be19-1277e02df948",
   "metadata": {},
   "source": [
    "- In this chapter, we will **examine the structure** of the data.\n",
    "- Understanding the structure is **essential for carrying out the subsequent steps**."
   ]
  },
  {
   "cell_type": "code",
   "execution_count": 1,
   "id": "b565585c",
   "metadata": {},
   "outputs": [
    {
     "name": "stdout",
     "output_type": "stream",
     "text": [
      "WARNING:tensorflow:From C:\\Users\\max\\anaconda3\\lib\\site-packages\\keras\\src\\losses.py:2976: The name tf.losses.sparse_softmax_cross_entropy is deprecated. Please use tf.compat.v1.losses.sparse_softmax_cross_entropy instead.\n",
      "\n"
     ]
    }
   ],
   "source": [
    "# Importing the Numpy and TensorFlow Libraries\n",
    "\n",
    "import numpy as np\n",
    "import tensorflow as tf"
   ]
  },
  {
   "cell_type": "code",
   "execution_count": 2,
   "id": "44749daf-cecb-4009-a196-ffc0cedc516e",
   "metadata": {},
   "outputs": [],
   "source": [
    "# Importing the Dataset\n",
    "\n",
    "train_data, test_data = tf.keras.datasets.fashion_mnist.load_data()"
   ]
  },
  {
   "cell_type": "code",
   "execution_count": 3,
   "id": "42c161af-957e-41a5-8166-6f3945261551",
   "metadata": {
    "scrolled": true
   },
   "outputs": [
    {
     "data": {
      "text/plain": [
       "(array([[[0, 0, 0, ..., 0, 0, 0],\n",
       "         [0, 0, 0, ..., 0, 0, 0],\n",
       "         [0, 0, 0, ..., 0, 0, 0],\n",
       "         ...,\n",
       "         [0, 0, 0, ..., 0, 0, 0],\n",
       "         [0, 0, 0, ..., 0, 0, 0],\n",
       "         [0, 0, 0, ..., 0, 0, 0]],\n",
       " \n",
       "        [[0, 0, 0, ..., 0, 0, 0],\n",
       "         [0, 0, 0, ..., 0, 0, 0],\n",
       "         [0, 0, 0, ..., 0, 0, 0],\n",
       "         ...,\n",
       "         [0, 0, 0, ..., 0, 0, 0],\n",
       "         [0, 0, 0, ..., 0, 0, 0],\n",
       "         [0, 0, 0, ..., 0, 0, 0]],\n",
       " \n",
       "        [[0, 0, 0, ..., 0, 0, 0],\n",
       "         [0, 0, 0, ..., 0, 0, 0],\n",
       "         [0, 0, 0, ..., 0, 0, 0],\n",
       "         ...,\n",
       "         [0, 0, 0, ..., 0, 0, 0],\n",
       "         [0, 0, 0, ..., 0, 0, 0],\n",
       "         [0, 0, 0, ..., 0, 0, 0]],\n",
       " \n",
       "        ...,\n",
       " \n",
       "        [[0, 0, 0, ..., 0, 0, 0],\n",
       "         [0, 0, 0, ..., 0, 0, 0],\n",
       "         [0, 0, 0, ..., 0, 0, 0],\n",
       "         ...,\n",
       "         [0, 0, 0, ..., 0, 0, 0],\n",
       "         [0, 0, 0, ..., 0, 0, 0],\n",
       "         [0, 0, 0, ..., 0, 0, 0]],\n",
       " \n",
       "        [[0, 0, 0, ..., 0, 0, 0],\n",
       "         [0, 0, 0, ..., 0, 0, 0],\n",
       "         [0, 0, 0, ..., 0, 0, 0],\n",
       "         ...,\n",
       "         [0, 0, 0, ..., 0, 0, 0],\n",
       "         [0, 0, 0, ..., 0, 0, 0],\n",
       "         [0, 0, 0, ..., 0, 0, 0]],\n",
       " \n",
       "        [[0, 0, 0, ..., 0, 0, 0],\n",
       "         [0, 0, 0, ..., 0, 0, 0],\n",
       "         [0, 0, 0, ..., 0, 0, 0],\n",
       "         ...,\n",
       "         [0, 0, 0, ..., 0, 0, 0],\n",
       "         [0, 0, 0, ..., 0, 0, 0],\n",
       "         [0, 0, 0, ..., 0, 0, 0]]], dtype=uint8),\n",
       " array([9, 0, 0, ..., 3, 0, 5], dtype=uint8))"
      ]
     },
     "execution_count": 3,
     "metadata": {},
     "output_type": "execute_result"
    }
   ],
   "source": [
    "train_data"
   ]
  },
  {
   "cell_type": "code",
   "execution_count": 4,
   "id": "96dea14f-e30d-43b7-a6a5-ef52a5d15fc2",
   "metadata": {
    "scrolled": true
   },
   "outputs": [
    {
     "data": {
      "text/plain": [
       "(array([[[0, 0, 0, ..., 0, 0, 0],\n",
       "         [0, 0, 0, ..., 0, 0, 0],\n",
       "         [0, 0, 0, ..., 0, 0, 0],\n",
       "         ...,\n",
       "         [0, 0, 0, ..., 0, 0, 0],\n",
       "         [0, 0, 0, ..., 0, 0, 0],\n",
       "         [0, 0, 0, ..., 0, 0, 0]],\n",
       " \n",
       "        [[0, 0, 0, ..., 0, 0, 0],\n",
       "         [0, 0, 0, ..., 0, 0, 0],\n",
       "         [0, 0, 0, ..., 0, 0, 0],\n",
       "         ...,\n",
       "         [0, 0, 0, ..., 0, 0, 0],\n",
       "         [0, 0, 0, ..., 0, 0, 0],\n",
       "         [0, 0, 0, ..., 0, 0, 0]],\n",
       " \n",
       "        [[0, 0, 0, ..., 0, 0, 0],\n",
       "         [0, 0, 0, ..., 0, 0, 0],\n",
       "         [0, 0, 0, ..., 0, 0, 0],\n",
       "         ...,\n",
       "         [0, 0, 0, ..., 0, 0, 0],\n",
       "         [0, 0, 0, ..., 0, 0, 0],\n",
       "         [0, 0, 0, ..., 0, 0, 0]],\n",
       " \n",
       "        ...,\n",
       " \n",
       "        [[0, 0, 0, ..., 0, 0, 0],\n",
       "         [0, 0, 0, ..., 0, 0, 0],\n",
       "         [0, 0, 0, ..., 0, 0, 0],\n",
       "         ...,\n",
       "         [0, 0, 0, ..., 0, 0, 0],\n",
       "         [0, 0, 0, ..., 0, 0, 0],\n",
       "         [0, 0, 0, ..., 0, 0, 0]],\n",
       " \n",
       "        [[0, 0, 0, ..., 0, 0, 0],\n",
       "         [0, 0, 0, ..., 0, 0, 0],\n",
       "         [0, 0, 0, ..., 0, 0, 0],\n",
       "         ...,\n",
       "         [0, 0, 0, ..., 0, 0, 0],\n",
       "         [0, 0, 0, ..., 0, 0, 0],\n",
       "         [0, 0, 0, ..., 0, 0, 0]],\n",
       " \n",
       "        [[0, 0, 0, ..., 0, 0, 0],\n",
       "         [0, 0, 0, ..., 0, 0, 0],\n",
       "         [0, 0, 0, ..., 0, 0, 0],\n",
       "         ...,\n",
       "         [0, 0, 0, ..., 0, 0, 0],\n",
       "         [0, 0, 0, ..., 0, 0, 0],\n",
       "         [0, 0, 0, ..., 0, 0, 0]]], dtype=uint8),\n",
       " array([9, 0, 0, ..., 3, 0, 5], dtype=uint8))"
      ]
     },
     "execution_count": 4,
     "metadata": {},
     "output_type": "execute_result"
    }
   ],
   "source": [
    "train_data"
   ]
  },
  {
   "cell_type": "code",
   "execution_count": 5,
   "id": "6d6c1419-2f2f-4685-b5df-da6fcd5e228b",
   "metadata": {},
   "outputs": [
    {
     "data": {
      "text/plain": [
       "tuple"
      ]
     },
     "execution_count": 5,
     "metadata": {},
     "output_type": "execute_result"
    }
   ],
   "source": [
    "type(train_data)"
   ]
  },
  {
   "cell_type": "code",
   "execution_count": 6,
   "id": "a8973e6c-61b5-4829-81f3-f5dba74e7d7b",
   "metadata": {},
   "outputs": [
    {
     "data": {
      "text/plain": [
       "2"
      ]
     },
     "execution_count": 6,
     "metadata": {},
     "output_type": "execute_result"
    }
   ],
   "source": [
    "len(train_data)"
   ]
  },
  {
   "cell_type": "code",
   "execution_count": 7,
   "id": "a18326dd-1e1a-47f2-b3a9-28c0ee8cfeb4",
   "metadata": {
    "scrolled": true
   },
   "outputs": [
    {
     "data": {
      "text/plain": [
       "array([[[0, 0, 0, ..., 0, 0, 0],\n",
       "        [0, 0, 0, ..., 0, 0, 0],\n",
       "        [0, 0, 0, ..., 0, 0, 0],\n",
       "        ...,\n",
       "        [0, 0, 0, ..., 0, 0, 0],\n",
       "        [0, 0, 0, ..., 0, 0, 0],\n",
       "        [0, 0, 0, ..., 0, 0, 0]],\n",
       "\n",
       "       [[0, 0, 0, ..., 0, 0, 0],\n",
       "        [0, 0, 0, ..., 0, 0, 0],\n",
       "        [0, 0, 0, ..., 0, 0, 0],\n",
       "        ...,\n",
       "        [0, 0, 0, ..., 0, 0, 0],\n",
       "        [0, 0, 0, ..., 0, 0, 0],\n",
       "        [0, 0, 0, ..., 0, 0, 0]],\n",
       "\n",
       "       [[0, 0, 0, ..., 0, 0, 0],\n",
       "        [0, 0, 0, ..., 0, 0, 0],\n",
       "        [0, 0, 0, ..., 0, 0, 0],\n",
       "        ...,\n",
       "        [0, 0, 0, ..., 0, 0, 0],\n",
       "        [0, 0, 0, ..., 0, 0, 0],\n",
       "        [0, 0, 0, ..., 0, 0, 0]],\n",
       "\n",
       "       ...,\n",
       "\n",
       "       [[0, 0, 0, ..., 0, 0, 0],\n",
       "        [0, 0, 0, ..., 0, 0, 0],\n",
       "        [0, 0, 0, ..., 0, 0, 0],\n",
       "        ...,\n",
       "        [0, 0, 0, ..., 0, 0, 0],\n",
       "        [0, 0, 0, ..., 0, 0, 0],\n",
       "        [0, 0, 0, ..., 0, 0, 0]],\n",
       "\n",
       "       [[0, 0, 0, ..., 0, 0, 0],\n",
       "        [0, 0, 0, ..., 0, 0, 0],\n",
       "        [0, 0, 0, ..., 0, 0, 0],\n",
       "        ...,\n",
       "        [0, 0, 0, ..., 0, 0, 0],\n",
       "        [0, 0, 0, ..., 0, 0, 0],\n",
       "        [0, 0, 0, ..., 0, 0, 0]],\n",
       "\n",
       "       [[0, 0, 0, ..., 0, 0, 0],\n",
       "        [0, 0, 0, ..., 0, 0, 0],\n",
       "        [0, 0, 0, ..., 0, 0, 0],\n",
       "        ...,\n",
       "        [0, 0, 0, ..., 0, 0, 0],\n",
       "        [0, 0, 0, ..., 0, 0, 0],\n",
       "        [0, 0, 0, ..., 0, 0, 0]]], dtype=uint8)"
      ]
     },
     "execution_count": 7,
     "metadata": {},
     "output_type": "execute_result"
    }
   ],
   "source": [
    "train_data[0]"
   ]
  },
  {
   "cell_type": "code",
   "execution_count": 8,
   "id": "d57449bf-12f8-4724-b579-11770a49d971",
   "metadata": {},
   "outputs": [
    {
     "data": {
      "text/plain": [
       "array([9, 0, 0, ..., 3, 0, 5], dtype=uint8)"
      ]
     },
     "execution_count": 8,
     "metadata": {},
     "output_type": "execute_result"
    }
   ],
   "source": [
    "train_data[1]"
   ]
  },
  {
   "cell_type": "code",
   "execution_count": 9,
   "id": "4b7e8467-60a5-4a15-96be-3bd3c413e6f2",
   "metadata": {},
   "outputs": [
    {
     "data": {
      "text/plain": [
       "numpy.ndarray"
      ]
     },
     "execution_count": 9,
     "metadata": {},
     "output_type": "execute_result"
    }
   ],
   "source": [
    "type(train_data[0])"
   ]
  },
  {
   "cell_type": "code",
   "execution_count": 10,
   "id": "a4ee871b-d9d0-4c42-8a10-1d73b9d8b6ff",
   "metadata": {},
   "outputs": [
    {
     "data": {
      "text/plain": [
       "60000"
      ]
     },
     "execution_count": 10,
     "metadata": {},
     "output_type": "execute_result"
    }
   ],
   "source": [
    "len(train_data[0])"
   ]
  },
  {
   "cell_type": "code",
   "execution_count": 11,
   "id": "2421cd0c-99b7-44a2-b1f5-a5a17f66cfeb",
   "metadata": {},
   "outputs": [
    {
     "data": {
      "text/plain": [
       "60000"
      ]
     },
     "execution_count": 11,
     "metadata": {},
     "output_type": "execute_result"
    }
   ],
   "source": [
    "len(train_data[1])"
   ]
  },
  {
   "cell_type": "code",
   "execution_count": 12,
   "id": "dc3e123a-6d17-4058-8bd9-faa461aee0d5",
   "metadata": {},
   "outputs": [
    {
     "data": {
      "text/plain": [
       "10000"
      ]
     },
     "execution_count": 12,
     "metadata": {},
     "output_type": "execute_result"
    }
   ],
   "source": [
    "len(test_data[0])"
   ]
  },
  {
   "cell_type": "code",
   "execution_count": 13,
   "id": "92f63013-f651-4f46-8270-74c8d1e228db",
   "metadata": {
    "scrolled": true
   },
   "outputs": [
    {
     "data": {
      "text/plain": [
       "array([[[0, 0, 0, ..., 0, 0, 0],\n",
       "        [0, 0, 0, ..., 0, 0, 0],\n",
       "        [0, 0, 0, ..., 0, 0, 0],\n",
       "        ...,\n",
       "        [0, 0, 0, ..., 0, 0, 0],\n",
       "        [0, 0, 0, ..., 0, 0, 0],\n",
       "        [0, 0, 0, ..., 0, 0, 0]],\n",
       "\n",
       "       [[0, 0, 0, ..., 0, 0, 0],\n",
       "        [0, 0, 0, ..., 0, 0, 0],\n",
       "        [0, 0, 0, ..., 0, 0, 0],\n",
       "        ...,\n",
       "        [0, 0, 0, ..., 0, 0, 0],\n",
       "        [0, 0, 0, ..., 0, 0, 0],\n",
       "        [0, 0, 0, ..., 0, 0, 0]],\n",
       "\n",
       "       [[0, 0, 0, ..., 0, 0, 0],\n",
       "        [0, 0, 0, ..., 0, 0, 0],\n",
       "        [0, 0, 0, ..., 0, 0, 0],\n",
       "        ...,\n",
       "        [0, 0, 0, ..., 0, 0, 0],\n",
       "        [0, 0, 0, ..., 0, 0, 0],\n",
       "        [0, 0, 0, ..., 0, 0, 0]],\n",
       "\n",
       "       ...,\n",
       "\n",
       "       [[0, 0, 0, ..., 0, 0, 0],\n",
       "        [0, 0, 0, ..., 0, 0, 0],\n",
       "        [0, 0, 0, ..., 0, 0, 0],\n",
       "        ...,\n",
       "        [0, 0, 0, ..., 0, 0, 0],\n",
       "        [0, 0, 0, ..., 0, 0, 0],\n",
       "        [0, 0, 0, ..., 0, 0, 0]],\n",
       "\n",
       "       [[0, 0, 0, ..., 0, 0, 0],\n",
       "        [0, 0, 0, ..., 0, 0, 0],\n",
       "        [0, 0, 0, ..., 0, 0, 0],\n",
       "        ...,\n",
       "        [0, 0, 0, ..., 0, 0, 0],\n",
       "        [0, 0, 0, ..., 0, 0, 0],\n",
       "        [0, 0, 0, ..., 0, 0, 0]],\n",
       "\n",
       "       [[0, 0, 0, ..., 0, 0, 0],\n",
       "        [0, 0, 0, ..., 0, 0, 0],\n",
       "        [0, 0, 0, ..., 0, 0, 0],\n",
       "        ...,\n",
       "        [0, 0, 0, ..., 0, 0, 0],\n",
       "        [0, 0, 0, ..., 0, 0, 0],\n",
       "        [0, 0, 0, ..., 0, 0, 0]]], dtype=uint8)"
      ]
     },
     "execution_count": 13,
     "metadata": {},
     "output_type": "execute_result"
    }
   ],
   "source": [
    "test_data[0]"
   ]
  },
  {
   "cell_type": "code",
   "execution_count": 14,
   "id": "4f3fbed0-cb38-4224-8fd0-b3c0a7ccf38d",
   "metadata": {},
   "outputs": [
    {
     "data": {
      "text/plain": [
       "array([9, 2, 1, ..., 8, 1, 5], dtype=uint8)"
      ]
     },
     "execution_count": 14,
     "metadata": {},
     "output_type": "execute_result"
    }
   ],
   "source": [
    "test_data[1]"
   ]
  },
  {
   "cell_type": "code",
   "execution_count": 15,
   "id": "2f735f89-1ee2-4bab-8c5e-c760d452e08f",
   "metadata": {},
   "outputs": [
    {
     "data": {
      "text/plain": [
       "3"
      ]
     },
     "execution_count": 15,
     "metadata": {},
     "output_type": "execute_result"
    }
   ],
   "source": [
    "train_data[0].ndim"
   ]
  },
  {
   "cell_type": "code",
   "execution_count": 16,
   "id": "d3fefa6a-79ac-490f-9605-2f4ee80e4b64",
   "metadata": {},
   "outputs": [
    {
     "data": {
      "text/plain": [
       "1"
      ]
     },
     "execution_count": 16,
     "metadata": {},
     "output_type": "execute_result"
    }
   ],
   "source": [
    "train_data[1].ndim"
   ]
  },
  {
   "cell_type": "markdown",
   "id": "4edb4aca-8285-4c00-9bf6-9ac0baf26a75",
   "metadata": {},
   "source": [
    "**Summary**\n",
    "- The images are stored within a **tuple**.\n",
    "- The **first item** of the tuple is a **3D Numpy array**, which contains the **image information**.\n",
    "- The **second item** of the tuple is a **1D Numpy array**, which contains the **labels**.\n",
    "- The Numpy array that stores the image data contains values from 0 to 255 - the **grayscale values**."
   ]
  },
  {
   "cell_type": "markdown",
   "id": "1f5c082f-4edb-4682-b76c-e5b279e69a43",
   "metadata": {},
   "source": [
    "---"
   ]
  },
  {
   "cell_type": "markdown",
   "id": "26957136-41fe-4185-a635-9a9ffadea352",
   "metadata": {},
   "source": [
    "**Excursion into Numpy Arrays**"
   ]
  },
  {
   "cell_type": "code",
   "execution_count": 17,
   "id": "ece8152f-dbff-45c9-9b10-8449c2c0bd67",
   "metadata": {},
   "outputs": [],
   "source": [
    "# The method .zeros() creates a Numpy array filled with zeros.\n",
    "# A 3D Numpy array is created, with 2 sets (layers), 3 rows per set, 4 columns.\n",
    "\n",
    "x = np.zeros((2,3,4))"
   ]
  },
  {
   "cell_type": "code",
   "execution_count": 18,
   "id": "3fb0df03-b7c1-4a1d-a125-d62c8bf60463",
   "metadata": {},
   "outputs": [
    {
     "data": {
      "text/plain": [
       "array([[[0., 0., 0., 0.],\n",
       "        [0., 0., 0., 0.],\n",
       "        [0., 0., 0., 0.]],\n",
       "\n",
       "       [[0., 0., 0., 0.],\n",
       "        [0., 0., 0., 0.],\n",
       "        [0., 0., 0., 0.]]])"
      ]
     },
     "execution_count": 18,
     "metadata": {},
     "output_type": "execute_result"
    }
   ],
   "source": [
    "x"
   ]
  },
  {
   "cell_type": "markdown",
   "id": "f643ddf4-d914-40ac-b51e-f9e16a423bd6",
   "metadata": {},
   "source": [
    "---"
   ]
  },
  {
   "cell_type": "markdown",
   "id": "3126d285-690b-4b46-b81f-d5779b6cbbf9",
   "metadata": {},
   "source": [
    "#### 1.2 Dataset Analysis"
   ]
  },
  {
   "cell_type": "markdown",
   "id": "87bb41db-55c9-418d-af2e-524ec63e421a",
   "metadata": {},
   "source": [
    "- For the analysis, the **training and test datasets are merged into one dataset**.\n",
    "- Since the training dataset comprises 60,000 images and the test dataset 10,000 images, the new dataset has a **size of 70,000 images**."
   ]
  },
  {
   "cell_type": "code",
   "execution_count": 19,
   "id": "4652ad14-9ce8-429f-a3d7-e60ab0bca3a0",
   "metadata": {},
   "outputs": [],
   "source": [
    "# The respective images (item1) and the labels (item2) are each merged into one Numpy array.\n",
    "\n",
    "item1 = np.concatenate((train_data[0], test_data[0]), axis=0)\n",
    "item2 = np.concatenate((train_data[1], test_data[1]), axis=0)"
   ]
  },
  {
   "cell_type": "code",
   "execution_count": 20,
   "id": "c7535a5b-9de3-4eb2-81b0-340bff1c6ef1",
   "metadata": {
    "scrolled": true
   },
   "outputs": [
    {
     "data": {
      "text/plain": [
       "array([[[0, 0, 0, ..., 0, 0, 0],\n",
       "        [0, 0, 0, ..., 0, 0, 0],\n",
       "        [0, 0, 0, ..., 0, 0, 0],\n",
       "        ...,\n",
       "        [0, 0, 0, ..., 0, 0, 0],\n",
       "        [0, 0, 0, ..., 0, 0, 0],\n",
       "        [0, 0, 0, ..., 0, 0, 0]],\n",
       "\n",
       "       [[0, 0, 0, ..., 0, 0, 0],\n",
       "        [0, 0, 0, ..., 0, 0, 0],\n",
       "        [0, 0, 0, ..., 0, 0, 0],\n",
       "        ...,\n",
       "        [0, 0, 0, ..., 0, 0, 0],\n",
       "        [0, 0, 0, ..., 0, 0, 0],\n",
       "        [0, 0, 0, ..., 0, 0, 0]],\n",
       "\n",
       "       [[0, 0, 0, ..., 0, 0, 0],\n",
       "        [0, 0, 0, ..., 0, 0, 0],\n",
       "        [0, 0, 0, ..., 0, 0, 0],\n",
       "        ...,\n",
       "        [0, 0, 0, ..., 0, 0, 0],\n",
       "        [0, 0, 0, ..., 0, 0, 0],\n",
       "        [0, 0, 0, ..., 0, 0, 0]],\n",
       "\n",
       "       ...,\n",
       "\n",
       "       [[0, 0, 0, ..., 0, 0, 0],\n",
       "        [0, 0, 0, ..., 0, 0, 0],\n",
       "        [0, 0, 0, ..., 0, 0, 0],\n",
       "        ...,\n",
       "        [0, 0, 0, ..., 0, 0, 0],\n",
       "        [0, 0, 0, ..., 0, 0, 0],\n",
       "        [0, 0, 0, ..., 0, 0, 0]],\n",
       "\n",
       "       [[0, 0, 0, ..., 0, 0, 0],\n",
       "        [0, 0, 0, ..., 0, 0, 0],\n",
       "        [0, 0, 0, ..., 0, 0, 0],\n",
       "        ...,\n",
       "        [0, 0, 0, ..., 0, 0, 0],\n",
       "        [0, 0, 0, ..., 0, 0, 0],\n",
       "        [0, 0, 0, ..., 0, 0, 0]],\n",
       "\n",
       "       [[0, 0, 0, ..., 0, 0, 0],\n",
       "        [0, 0, 0, ..., 0, 0, 0],\n",
       "        [0, 0, 0, ..., 0, 0, 0],\n",
       "        ...,\n",
       "        [0, 0, 0, ..., 0, 0, 0],\n",
       "        [0, 0, 0, ..., 0, 0, 0],\n",
       "        [0, 0, 0, ..., 0, 0, 0]]], dtype=uint8)"
      ]
     },
     "execution_count": 20,
     "metadata": {},
     "output_type": "execute_result"
    }
   ],
   "source": [
    "item1"
   ]
  },
  {
   "cell_type": "code",
   "execution_count": 21,
   "id": "ab577da2-0656-4d06-a14b-555c4e998a28",
   "metadata": {},
   "outputs": [
    {
     "data": {
      "text/plain": [
       "array([9, 0, 0, ..., 8, 1, 5], dtype=uint8)"
      ]
     },
     "execution_count": 21,
     "metadata": {},
     "output_type": "execute_result"
    }
   ],
   "source": [
    "item2"
   ]
  },
  {
   "cell_type": "code",
   "execution_count": 22,
   "id": "d09345a1-5fe3-4b4e-b102-3be37efe5c29",
   "metadata": {},
   "outputs": [],
   "source": [
    "# The two arrays (item1 and item2) are combined into a tuple.\n",
    "# As a reminder: \"Tuple items are ordered, unchangeable, and allow duplicate values.\"\n",
    "\n",
    "data = (item1 , item2)"
   ]
  },
  {
   "cell_type": "code",
   "execution_count": 23,
   "id": "c23d4a7d-4dee-423b-86b4-56a44445b282",
   "metadata": {},
   "outputs": [
    {
     "data": {
      "text/plain": [
       "70000"
      ]
     },
     "execution_count": 23,
     "metadata": {},
     "output_type": "execute_result"
    }
   ],
   "source": [
    "# Verification that the dataset now comprises 70,000 images.\n",
    "\n",
    "len(data[0])"
   ]
  },
  {
   "cell_type": "code",
   "execution_count": 24,
   "id": "ed034fe2",
   "metadata": {
    "scrolled": true
   },
   "outputs": [
    {
     "data": {
      "text/plain": [
       "array([[  0,   0,   0,   0,   0,   0,   0,   0,   0,   0,   0,   0,   0,\n",
       "          0,   0,   0,   0,   0,   0,   0,   0,   0,   0,   0,   0,   0,\n",
       "          0,   0],\n",
       "       [  0,   0,   0,   0,   0,   0,   0,   0,   0,   0,   0,   0,   0,\n",
       "          0,   0,   0,   0,   0,   0,   0,   0,   0,   0,   0,   0,   0,\n",
       "          0,   0],\n",
       "       [  0,   0,   0,   0,   0,   0,   0,   0,   0,   0,   0,   0,   0,\n",
       "          0,   0,   0,   0,   0,   0,   0,   0,   0,   0,   0,   0,   0,\n",
       "          0,   0],\n",
       "       [  0,   0,   0,   0,   0,   0,   0,   0,   0,   0,   0,   0,   1,\n",
       "          0,   0,  13,  73,   0,   0,   1,   4,   0,   0,   0,   0,   1,\n",
       "          1,   0],\n",
       "       [  0,   0,   0,   0,   0,   0,   0,   0,   0,   0,   0,   0,   3,\n",
       "          0,  36, 136, 127,  62,  54,   0,   0,   0,   1,   3,   4,   0,\n",
       "          0,   3],\n",
       "       [  0,   0,   0,   0,   0,   0,   0,   0,   0,   0,   0,   0,   6,\n",
       "          0, 102, 204, 176, 134, 144, 123,  23,   0,   0,   0,   0,  12,\n",
       "         10,   0],\n",
       "       [  0,   0,   0,   0,   0,   0,   0,   0,   0,   0,   0,   0,   0,\n",
       "          0, 155, 236, 207, 178, 107, 156, 161, 109,  64,  23,  77, 130,\n",
       "         72,  15],\n",
       "       [  0,   0,   0,   0,   0,   0,   0,   0,   0,   0,   0,   1,   0,\n",
       "         69, 207, 223, 218, 216, 216, 163, 127, 121, 122, 146, 141,  88,\n",
       "        172,  66],\n",
       "       [  0,   0,   0,   0,   0,   0,   0,   0,   0,   1,   1,   1,   0,\n",
       "        200, 232, 232, 233, 229, 223, 223, 215, 213, 164, 127, 123, 196,\n",
       "        229,   0],\n",
       "       [  0,   0,   0,   0,   0,   0,   0,   0,   0,   0,   0,   0,   0,\n",
       "        183, 225, 216, 223, 228, 235, 227, 224, 222, 224, 221, 223, 245,\n",
       "        173,   0],\n",
       "       [  0,   0,   0,   0,   0,   0,   0,   0,   0,   0,   0,   0,   0,\n",
       "        193, 228, 218, 213, 198, 180, 212, 210, 211, 213, 223, 220, 243,\n",
       "        202,   0],\n",
       "       [  0,   0,   0,   0,   0,   0,   0,   0,   0,   1,   3,   0,  12,\n",
       "        219, 220, 212, 218, 192, 169, 227, 208, 218, 224, 212, 226, 197,\n",
       "        209,  52],\n",
       "       [  0,   0,   0,   0,   0,   0,   0,   0,   0,   0,   6,   0,  99,\n",
       "        244, 222, 220, 218, 203, 198, 221, 215, 213, 222, 220, 245, 119,\n",
       "        167,  56],\n",
       "       [  0,   0,   0,   0,   0,   0,   0,   0,   0,   4,   0,   0,  55,\n",
       "        236, 228, 230, 228, 240, 232, 213, 218, 223, 234, 217, 217, 209,\n",
       "         92,   0],\n",
       "       [  0,   0,   1,   4,   6,   7,   2,   0,   0,   0,   0,   0, 237,\n",
       "        226, 217, 223, 222, 219, 222, 221, 216, 223, 229, 215, 218, 255,\n",
       "         77,   0],\n",
       "       [  0,   3,   0,   0,   0,   0,   0,   0,   0,  62, 145, 204, 228,\n",
       "        207, 213, 221, 218, 208, 211, 218, 224, 223, 219, 215, 224, 244,\n",
       "        159,   0],\n",
       "       [  0,   0,   0,   0,  18,  44,  82, 107, 189, 228, 220, 222, 217,\n",
       "        226, 200, 205, 211, 230, 224, 234, 176, 188, 250, 248, 233, 238,\n",
       "        215,   0],\n",
       "       [  0,  57, 187, 208, 224, 221, 224, 208, 204, 214, 208, 209, 200,\n",
       "        159, 245, 193, 206, 223, 255, 255, 221, 234, 221, 211, 220, 232,\n",
       "        246,   0],\n",
       "       [  3, 202, 228, 224, 221, 211, 211, 214, 205, 205, 205, 220, 240,\n",
       "         80, 150, 255, 229, 221, 188, 154, 191, 210, 204, 209, 222, 228,\n",
       "        225,   0],\n",
       "       [ 98, 233, 198, 210, 222, 229, 229, 234, 249, 220, 194, 215, 217,\n",
       "        241,  65,  73, 106, 117, 168, 219, 221, 215, 217, 223, 223, 224,\n",
       "        229,  29],\n",
       "       [ 75, 204, 212, 204, 193, 205, 211, 225, 216, 185, 197, 206, 198,\n",
       "        213, 240, 195, 227, 245, 239, 223, 218, 212, 209, 222, 220, 221,\n",
       "        230,  67],\n",
       "       [ 48, 203, 183, 194, 213, 197, 185, 190, 194, 192, 202, 214, 219,\n",
       "        221, 220, 236, 225, 216, 199, 206, 186, 181, 177, 172, 181, 205,\n",
       "        206, 115],\n",
       "       [  0, 122, 219, 193, 179, 171, 183, 196, 204, 210, 213, 207, 211,\n",
       "        210, 200, 196, 194, 191, 195, 191, 198, 192, 176, 156, 167, 177,\n",
       "        210,  92],\n",
       "       [  0,   0,  74, 189, 212, 191, 175, 172, 175, 181, 185, 188, 189,\n",
       "        188, 193, 198, 204, 209, 210, 210, 211, 188, 188, 194, 192, 216,\n",
       "        170,   0],\n",
       "       [  2,   0,   0,   0,  66, 200, 222, 237, 239, 242, 246, 243, 244,\n",
       "        221, 220, 193, 191, 179, 182, 182, 181, 176, 166, 168,  99,  58,\n",
       "          0,   0],\n",
       "       [  0,   0,   0,   0,   0,   0,   0,  40,  61,  44,  72,  41,  35,\n",
       "          0,   0,   0,   0,   0,   0,   0,   0,   0,   0,   0,   0,   0,\n",
       "          0,   0],\n",
       "       [  0,   0,   0,   0,   0,   0,   0,   0,   0,   0,   0,   0,   0,\n",
       "          0,   0,   0,   0,   0,   0,   0,   0,   0,   0,   0,   0,   0,\n",
       "          0,   0],\n",
       "       [  0,   0,   0,   0,   0,   0,   0,   0,   0,   0,   0,   0,   0,\n",
       "          0,   0,   0,   0,   0,   0,   0,   0,   0,   0,   0,   0,   0,\n",
       "          0,   0]], dtype=uint8)"
      ]
     },
     "execution_count": 24,
     "metadata": {},
     "output_type": "execute_result"
    }
   ],
   "source": [
    "# Here, the grayscale values of the first image can be seen.\n",
    "\n",
    "data[0][0]"
   ]
  },
  {
   "cell_type": "code",
   "execution_count": 25,
   "id": "2a717870-3109-46cd-a749-7502e45027f8",
   "metadata": {},
   "outputs": [],
   "source": [
    "# Importing the Matplotlib library to display the images.\n",
    "\n",
    "import matplotlib.pyplot as plt"
   ]
  },
  {
   "cell_type": "code",
   "execution_count": 26,
   "id": "6389d920",
   "metadata": {},
   "outputs": [
    {
     "data": {
      "image/png": "[encoded data removed]",
      "text/plain": [
       "<Figure size 300x300 with 1 Axes>"
      ]
     },
     "metadata": {},
     "output_type": "display_data"
    }
   ],
   "source": [
    "#The first image.\n",
    "\n",
    "plt.figure(figsize=(3, 3)) \n",
    "plt.imshow(data[0][0], cmap='gray')\n",
    "plt.title(f'Label: {data[1][0]}')\n",
    "plt.show()"
   ]
  },
  {
   "cell_type": "code",
   "execution_count": 27,
   "id": "ecbadb5f",
   "metadata": {},
   "outputs": [
    {
     "data": {
      "image/png": "[encoded data removed]",
      "text/plain": [
       "<Figure size 300x300 with 1 Axes>"
      ]
     },
     "metadata": {},
     "output_type": "display_data"
    }
   ],
   "source": [
    "# The second image.\n",
    "\n",
    "plt.figure(figsize=(3, 3)) \n",
    "plt.imshow(data[0][1], cmap='gray')\n",
    "plt.title(f'Label: {data[1][1]}')\n",
    "plt.show()"
   ]
  },
  {
   "cell_type": "code",
   "execution_count": 28,
   "id": "18acae3b",
   "metadata": {},
   "outputs": [
    {
     "data": {
      "image/png": "[encoded data removed]",
      "text/plain": [
       "<Figure size 300x300 with 1 Axes>"
      ]
     },
     "metadata": {},
     "output_type": "display_data"
    }
   ],
   "source": [
    "# The last image.\n",
    "\n",
    "plt.figure(figsize=(3, 3)) \n",
    "plt.imshow(data[0][69999], cmap='gray')\n",
    "plt.title(f'Label: {data[1][69999]}')\n",
    "plt.show()"
   ]
  },
  {
   "cell_type": "code",
   "execution_count": 29,
   "id": "cadee568",
   "metadata": {},
   "outputs": [],
   "source": [
    "# For further analysis, two separate training and test datasets are created again.\n",
    "\n",
    "(x_train, y_train), (x_test, y_test) = tf.keras.datasets.fashion_mnist.load_data()"
   ]
  },
  {
   "cell_type": "code",
   "execution_count": 30,
   "id": "637b4bd3-8e56-4844-98cc-fae9a91d8f8f",
   "metadata": {},
   "outputs": [
    {
     "name": "stdout",
     "output_type": "stream",
     "text": [
      "{9: 6000, 0: 6000, 3: 6000, 2: 6000, 7: 6000, 5: 6000, 1: 6000, 6: 6000, 4: 6000, 8: 6000}\n"
     ]
    },
    {
     "data": {
      "text/plain": [
       "<BarContainer object of 10 artists>"
      ]
     },
     "execution_count": 30,
     "metadata": {},
     "output_type": "execute_result"
    },
    {
     "data": {
      "image/png": "[encoded data removed]",
      "text/plain": [
       "<Figure size 400x300 with 1 Axes>"
      ]
     },
     "metadata": {},
     "output_type": "display_data"
    }
   ],
   "source": [
    "# Displaying the frequency distribution of the digits in the training dataset.\n",
    "\n",
    "counter_train = {}\n",
    "\n",
    "for i in y_train:\n",
    "    if i in counter_train:\n",
    "        counter_train[i] += 1\n",
    "    else:\n",
    "        counter_train[i] = 1\n",
    "\n",
    "print(counter_train)\n",
    "\n",
    "elements = list(counter_train.keys())\n",
    "counts = list(counter_train.values())\n",
    "\n",
    "plt.figure(figsize=(4, 3))\n",
    "plt.bar(elements, counts)"
   ]
  },
  {
   "cell_type": "code",
   "execution_count": 31,
   "id": "c112e13e-1121-4f1d-9737-b2dac5d7db69",
   "metadata": {},
   "outputs": [
    {
     "name": "stdout",
     "output_type": "stream",
     "text": [
      "{9: 1000, 2: 1000, 1: 1000, 6: 1000, 4: 1000, 5: 1000, 7: 1000, 3: 1000, 8: 1000, 0: 1000}\n"
     ]
    },
    {
     "data": {
      "text/plain": [
       "<BarContainer object of 10 artists>"
      ]
     },
     "execution_count": 31,
     "metadata": {},
     "output_type": "execute_result"
    },
    {
     "data": {
      "image/png": "[encoded data removed]",
      "text/plain": [
       "<Figure size 400x300 with 1 Axes>"
      ]
     },
     "metadata": {},
     "output_type": "display_data"
    }
   ],
   "source": [
    "# Displaying the frequency distribution of the digits in the test dataset.\n",
    "\n",
    "counter_test = {}\n",
    "\n",
    "for i in y_test:\n",
    "    if i in counter_test :\n",
    "        counter_test[i] += 1\n",
    "    else:\n",
    "        counter_test[i] = 1\n",
    "\n",
    "print(counter_test)\n",
    "\n",
    "elements = list(counter_test .keys())\n",
    "counts = list(counter_test .values())\n",
    "plt.figure(figsize=(4, 3))\n",
    "plt.bar(elements, counts)"
   ]
  },
  {
   "cell_type": "markdown",
   "id": "6c8fe11d-cc64-4e9d-aa9f-6ed823da9bde",
   "metadata": {},
   "source": [
    "**Summary**\n",
    "- The digits are **evenly distributed** in both datasets."
   ]
  },
  {
   "cell_type": "markdown",
   "id": "a2904278-b8c1-4e2c-b607-f04a3ef24d7e",
   "metadata": {},
   "source": [
    "### **2. Model Creation**"
   ]
  },
  {
   "cell_type": "markdown",
   "id": "c627f8c3-4212-4111-90a3-35aff04c8208",
   "metadata": {},
   "source": [
    "#### 2.1 Data Normalization"
   ]
  },
  {
   "cell_type": "markdown",
   "id": "9cde5ca8-f2d2-4a3c-ac11-9101668e1894",
   "metadata": {},
   "source": [
    "- For optimal training, the **grayscale values need to be normalized**.\n",
    "- This involves **scaling down to values between 0 and 1**.\n",
    "- The normalization is quite simple, as the values just need to be **divided by 255**."
   ]
  },
  {
   "cell_type": "code",
   "execution_count": 32,
   "id": "a81cbae7",
   "metadata": {},
   "outputs": [],
   "source": [
    "# Normalization of the grayscale values of both datasets.\n",
    "\n",
    "x_train = tf.keras.utils.normalize(x_train, axis = 1)\n",
    "x_test = tf.keras.utils.normalize(x_test, axis = 1)"
   ]
  },
  {
   "cell_type": "code",
   "execution_count": 33,
   "id": "01bd12d3-5708-42b5-a193-f43a43b629d7",
   "metadata": {
    "scrolled": true
   },
   "outputs": [
    {
     "data": {
      "text/plain": [
       "array([[0.        , 0.        , 0.        , 0.        , 0.        ,\n",
       "        0.        , 0.        , 0.        , 0.        , 0.        ,\n",
       "        0.        , 0.        , 0.        , 0.        , 0.        ,\n",
       "        0.        , 0.        , 0.        , 0.        , 0.        ,\n",
       "        0.        , 0.        , 0.        , 0.        , 0.        ,\n",
       "        0.        , 0.        , 0.        ],\n",
       "       [0.        , 0.        , 0.        , 0.        , 0.        ,\n",
       "        0.        , 0.        , 0.        , 0.        , 0.        ,\n",
       "        0.        , 0.        , 0.        , 0.        , 0.        ,\n",
       "        0.        , 0.        , 0.        , 0.        , 0.        ,\n",
       "        0.        , 0.        , 0.        , 0.        , 0.        ,\n",
       "        0.        , 0.        , 0.        ],\n",
       "       [0.        , 0.        , 0.        , 0.        , 0.        ,\n",
       "        0.        , 0.        , 0.        , 0.        , 0.        ,\n",
       "        0.        , 0.        , 0.        , 0.        , 0.        ,\n",
       "        0.        , 0.        , 0.        , 0.        , 0.        ,\n",
       "        0.        , 0.        , 0.        , 0.        , 0.        ,\n",
       "        0.        , 0.        , 0.        ],\n",
       "       [0.        , 0.        , 0.        , 0.        , 0.        ,\n",
       "        0.        , 0.        , 0.        , 0.        , 0.        ,\n",
       "        0.        , 0.        , 0.00135942, 0.        , 0.        ,\n",
       "        0.0135775 , 0.07675477, 0.        , 0.        , 0.00108359,\n",
       "        0.00452712, 0.        , 0.        , 0.        , 0.        ,\n",
       "        0.00112628, 0.00124281, 0.        ],\n",
       "       [0.        , 0.        , 0.        , 0.        , 0.        ,\n",
       "        0.        , 0.        , 0.        , 0.        , 0.        ,\n",
       "        0.        , 0.        , 0.00407827, 0.        , 0.0393841 ,\n",
       "        0.14204153, 0.13353227, 0.06706289, 0.05944322, 0.        ,\n",
       "        0.        , 0.        , 0.00114334, 0.00349231, 0.00461146,\n",
       "        0.        , 0.        , 0.01550248],\n",
       "       [0.        , 0.        , 0.        , 0.        , 0.        ,\n",
       "        0.        , 0.        , 0.        , 0.        , 0.        ,\n",
       "        0.        , 0.        , 0.00815655, 0.        , 0.11158829,\n",
       "        0.2130623 , 0.18505259, 0.14494239, 0.15851525, 0.13328144,\n",
       "        0.02603093, 0.        , 0.        , 0.        , 0.        ,\n",
       "        0.01351531, 0.01242807, 0.        ],\n",
       "       [0.        , 0.        , 0.        , 0.        , 0.        ,\n",
       "        0.        , 0.        , 0.        , 0.        , 0.        ,\n",
       "        0.        , 0.        , 0.        , 0.        , 0.16957044,\n",
       "        0.24648383, 0.21764709, 0.19253541, 0.11778563, 0.16903988,\n",
       "        0.18221649, 0.12429049, 0.07317407, 0.02677434, 0.08877055,\n",
       "        0.14641589, 0.08948208, 0.07751239],\n",
       "       [0.        , 0.        , 0.        , 0.        , 0.        ,\n",
       "        0.        , 0.        , 0.        , 0.        , 0.        ,\n",
       "        0.        , 0.00148028, 0.        , 0.08043127, 0.22645859,\n",
       "        0.23290633, 0.22921287, 0.23363847, 0.23777287, 0.176625  ,\n",
       "        0.14373599, 0.13797385, 0.13948807, 0.16995886, 0.16255387,\n",
       "        0.0991123 , 0.21376275, 0.34105453],\n",
       "       [0.        , 0.        , 0.        , 0.        , 0.        ,\n",
       "        0.        , 0.        , 0.        , 0.        , 0.00158012,\n",
       "        0.00154801, 0.00148028, 0.        , 0.23313412, 0.25380866,\n",
       "        0.24230614, 0.2449844 , 0.24770005, 0.24547847, 0.24164034,\n",
       "        0.24333258, 0.24287959, 0.18750855, 0.14784092, 0.14180231,\n",
       "        0.22075012, 0.28460274, 0.        ],\n",
       "       [0.        , 0.        , 0.        , 0.        , 0.        ,\n",
       "        0.        , 0.        , 0.        , 0.        , 0.        ,\n",
       "        0.        , 0.        , 0.        , 0.21331772, 0.24615064,\n",
       "        0.22559537, 0.23447005, 0.24661839, 0.25868808, 0.2459747 ,\n",
       "        0.2535186 , 0.25314211, 0.25610924, 0.25726649, 0.25708875,\n",
       "        0.27593765, 0.21500556, 0.        ],\n",
       "       [0.        , 0.        , 0.        , 0.        , 0.        ,\n",
       "        0.        , 0.        , 0.        , 0.        , 0.        ,\n",
       "        0.        , 0.        , 0.        , 0.22497443, 0.24943265,\n",
       "        0.22768422, 0.2239557 , 0.2141686 , 0.19814406, 0.22972086,\n",
       "        0.23767368, 0.24059903, 0.24353245, 0.25959469, 0.25363015,\n",
       "        0.27368509, 0.25104696, 0.        ],\n",
       "       [0.        , 0.        , 0.        , 0.        , 0.        ,\n",
       "        0.        , 0.        , 0.        , 0.        , 0.00158012,\n",
       "        0.00464404, 0.        , 0.0163131 , 0.25528186, 0.24068063,\n",
       "        0.22141768, 0.22921287, 0.20767864, 0.18603525, 0.2459747 ,\n",
       "        0.23541013, 0.24858099, 0.25610924, 0.24678957, 0.26054734,\n",
       "        0.22187639, 0.2597466 , 0.26870963],\n",
       "       [0.        , 0.        , 0.        , 0.        , 0.        ,\n",
       "        0.        , 0.        , 0.        , 0.        , 0.        ,\n",
       "        0.00928807, 0.        , 0.13458306, 0.28442363, 0.24286863,\n",
       "        0.22977306, 0.22921287, 0.2195769 , 0.21795846, 0.23947316,\n",
       "        0.24333258, 0.24287959, 0.25382255, 0.25610239, 0.28245176,\n",
       "        0.13402686, 0.20754872, 0.2893796 ],\n",
       "       [0.        , 0.        , 0.        , 0.        , 0.        ,\n",
       "        0.        , 0.        , 0.        , 0.        , 0.00632047,\n",
       "        0.        , 0.        , 0.07476837, 0.27509826, 0.24943265,\n",
       "        0.24021729, 0.23972722, 0.2595983 , 0.25538568, 0.23080445,\n",
       "        0.24672792, 0.25428239, 0.26754269, 0.25261008, 0.25017156,\n",
       "        0.23539171, 0.11433822, 0.        ],\n",
       "       [0.        , 0.        , 0.00196864, 0.00743066, 0.01073107,\n",
       "        0.01210602, 0.00340005, 0.        , 0.        , 0.        ,\n",
       "        0.        , 0.        , 0.3221837 , 0.26344156, 0.23739862,\n",
       "        0.23290633, 0.23341861, 0.23688345, 0.24437767, 0.23947316,\n",
       "        0.24446436, 0.25428239, 0.26182596, 0.25028188, 0.25132443,\n",
       "        0.28720041, 0.09569612, 0.        ],\n",
       "       [0.        , 0.00677527, 0.        , 0.        , 0.        ,\n",
       "        0.        , 0.        , 0.        , 0.        , 0.09796732,\n",
       "        0.2244617 , 0.30197776, 0.30994887, 0.24129382, 0.23302261,\n",
       "        0.23081749, 0.22921287, 0.2249852 , 0.23226887, 0.2362224 ,\n",
       "        0.2535186 , 0.25428239, 0.25039252, 0.25028188, 0.25824161,\n",
       "        0.27481137, 0.19760627, 0.        ],\n",
       "       [0.        , 0.        , 0.        , 0.        , 0.0321932 ,\n",
       "        0.07609496, 0.13940217, 0.17644206, 0.29930777, 0.36026691,\n",
       "        0.34056258, 0.32862285, 0.2949952 , 0.26344156, 0.21880057,\n",
       "        0.21410672, 0.22185283, 0.24878171, 0.24657927, 0.25355982,\n",
       "        0.19919318, 0.2143726 , 0.28583621, 0.28869724, 0.26861739,\n",
       "        0.26805371, 0.26720344, 0.        ],\n",
       "       [0.        , 0.12873017, 0.36813591, 0.38639423, 0.40062647,\n",
       "        0.38220425, 0.38080592, 0.34299018, 0.32306235, 0.33814525,\n",
       "        0.32198644, 0.30937917, 0.27188498, 0.18534163, 0.2680307 ,\n",
       "        0.20157364, 0.21659565, 0.24121009, 0.28070408, 0.27631519,\n",
       "        0.25012326, 0.26682547, 0.25267921, 0.24562547, 0.25363015,\n",
       "        0.26129606, 0.30573045, 0.        ],\n",
       "       [0.02264812, 0.45620167, 0.44885021, 0.41611686, 0.39526094,\n",
       "        0.36490994, 0.35870558, 0.35288412, 0.32464599, 0.32392419,\n",
       "        0.3173424 , 0.32566229, 0.32626197, 0.09325365, 0.16410043,\n",
       "        0.26632787, 0.24077866, 0.23904677, 0.20695046, 0.1668727 ,\n",
       "        0.21616988, 0.23945875, 0.23324234, 0.24329727, 0.25593588,\n",
       "        0.25679095, 0.27963151, 0.        ],\n",
       "       [0.73983865, 0.52621282, 0.38979097, 0.39010956, 0.39704945,\n",
       "        0.39603969, 0.38930605, 0.38586395, 0.39432611, 0.34762596,\n",
       "        0.30031428, 0.31826087, 0.2949952 , 0.28092662, 0.07111019,\n",
       "        0.07624288, 0.11145213, 0.12655417, 0.18493445, 0.23730599,\n",
       "        0.25012326, 0.24516015, 0.24810583, 0.25959469, 0.25708875,\n",
       "        0.25228585, 0.28460274, 0.14985729],\n",
       "       [0.56620305, 0.46071852, 0.41735195, 0.37896357, 0.34518263,\n",
       "        0.35453335, 0.35870558, 0.37102303, 0.34206602, 0.29232183,\n",
       "        0.30495831, 0.30493832, 0.26916613, 0.24828784, 0.26256069,\n",
       "        0.20366249, 0.23867579, 0.2650066 , 0.26309128, 0.24164034,\n",
       "        0.24672792, 0.24173931, 0.23895907, 0.25843059, 0.25363015,\n",
       "        0.24890702, 0.28584554, 0.34622202],\n",
       "       [0.36236995, 0.45846009, 0.36026135, 0.36038692, 0.38095285,\n",
       "        0.3406979 , 0.31450489, 0.31330833, 0.30722596, 0.30338266,\n",
       "        0.31269837, 0.31678059, 0.29771405, 0.2576132 , 0.24068063,\n",
       "        0.24648383, 0.23657292, 0.23363847, 0.21905926, 0.22321933,\n",
       "        0.21051098, 0.20639064, 0.20237203, 0.2002255 , 0.20866844,\n",
       "        0.2308866 , 0.25601818, 0.59426168],\n",
       "       [0.        , 0.27552774, 0.43113243, 0.35852926, 0.32014347,\n",
       "        0.2957327 , 0.31110484, 0.32320228, 0.32306235, 0.33182478,\n",
       "        0.3297265 , 0.30641861, 0.28683865, 0.24479083, 0.21880057,\n",
       "        0.20470691, 0.20397843, 0.20659698, 0.21465606, 0.2069655 ,\n",
       "        0.22409233, 0.21893371, 0.20122869, 0.18159987, 0.19252834,\n",
       "        0.19935087, 0.26098941, 0.47540935],\n",
       "       [0.        , 0.        , 0.14567945, 0.3510986 , 0.37916434,\n",
       "        0.33032132, 0.29750463, 0.28362649, 0.27713682, 0.28600136,\n",
       "        0.28638217, 0.27829323, 0.2569313 , 0.21914607, 0.21114255,\n",
       "        0.20679576, 0.21449278, 0.22606686, 0.23116807, 0.22755369,\n",
       "        0.23880546, 0.2143726 , 0.21494883, 0.22583574, 0.22134995,\n",
       "        0.24327564, 0.21127714, 0.        ],\n",
       "       [0.01509875, 0.        , 0.        , 0.        , 0.11804173,\n",
       "        0.34588619, 0.37740587, 0.39081092, 0.37848972, 0.38238856,\n",
       "        0.38081089, 0.3597088 , 0.33169967, 0.2576132 , 0.24068063,\n",
       "        0.20157364, 0.20082412, 0.19361707, 0.20034566, 0.19721319,\n",
       "        0.20485208, 0.20068924, 0.18979524, 0.1955691 , 0.11413357,\n",
       "        0.06532401, 0.        , 0.        ],\n",
       "       [0.        , 0.        , 0.        , 0.        , 0.        ,\n",
       "        0.        , 0.        , 0.06595965, 0.09660198, 0.06952519,\n",
       "        0.11145684, 0.06069161, 0.04757987, 0.        , 0.        ,\n",
       "        0.        , 0.        , 0.        , 0.        , 0.        ,\n",
       "        0.        , 0.        , 0.        , 0.        , 0.        ,\n",
       "        0.        , 0.        , 0.        ],\n",
       "       [0.        , 0.        , 0.        , 0.        , 0.        ,\n",
       "        0.        , 0.        , 0.        , 0.        , 0.        ,\n",
       "        0.        , 0.        , 0.        , 0.        , 0.        ,\n",
       "        0.        , 0.        , 0.        , 0.        , 0.        ,\n",
       "        0.        , 0.        , 0.        , 0.        , 0.        ,\n",
       "        0.        , 0.        , 0.        ],\n",
       "       [0.        , 0.        , 0.        , 0.        , 0.        ,\n",
       "        0.        , 0.        , 0.        , 0.        , 0.        ,\n",
       "        0.        , 0.        , 0.        , 0.        , 0.        ,\n",
       "        0.        , 0.        , 0.        , 0.        , 0.        ,\n",
       "        0.        , 0.        , 0.        , 0.        , 0.        ,\n",
       "        0.        , 0.        , 0.        ]])"
      ]
     },
     "execution_count": 33,
     "metadata": {},
     "output_type": "execute_result"
    }
   ],
   "source": [
    "# Checking if the values have been normalized.\n",
    "\n",
    "x_train[0]"
   ]
  },
  {
   "cell_type": "markdown",
   "id": "7d55fe6e-197f-4638-871a-959d59225673",
   "metadata": {},
   "source": [
    "#### 2.2 Model Creation"
   ]
  },
  {
   "cell_type": "markdown",
   "id": "885517e4-cb93-489e-b8e5-fa827f90559f",
   "metadata": {},
   "source": [
    "- Next, we will **create, compile, and train the neural network**.\n",
    "- A model is an object that **groups layers together** and can be **trained on data**.\n",
    "- The simplest type of model is the **sequential model**, which is a **linear stack of layers**.\n",
    "\r\n"
   ]
  },
  {
   "cell_type": "markdown",
   "id": "b280528f-6953-462e-8b61-25790dbbfe14",
   "metadata": {},
   "source": [
    "**Network Setup**\n",
    "- With **.Sequential()**, a feedforward network is created.\n",
    "- The **.Flatten() method** converts the multidimensional input data and \"flattens\" it into a single long 1D vector, the input layer. A single grayscale image with a resolution of 28x28 pixels is represented as a 2D array (28, 28). For the 2D grayscale image (28, 28), this would mean that the 784 pixel values (28x28=784) are arranged in a single vector of length 784. Thus, **the input layer in our case consists of 784 values**. In summary: The size of the first layer is not defined. It is determined by the first data.\n",
    "- Three **hidden layers** are created, each with 128 neurons. \n",
    "- The **activation function** of the hidden layers is a **ReLU function** (Rectified Linear Unit). If the input values are negative, the ReLU function outputs a 0. If the input values are positive, the ReLU function outputs the input value.\n",
    "- The **output layer** has 10 neurons, one for each piece of clothing. The activation function of the output layer is a **softmax function**. This outputs values between 0 and 1."
   ]
  },
  {
   "cell_type": "code",
   "execution_count": 34,
   "id": "7d16c281",
   "metadata": {},
   "outputs": [
    {
     "name": "stdout",
     "output_type": "stream",
     "text": [
      "WARNING:tensorflow:From C:\\Users\\max\\anaconda3\\lib\\site-packages\\keras\\src\\backend.py:873: The name tf.get_default_graph is deprecated. Please use tf.compat.v1.get_default_graph instead.\n",
      "\n"
     ]
    }
   ],
   "source": [
    "# The model is created using TensorFlow and Keras.\n",
    "\n",
    "model = tf.keras.models.Sequential()\n",
    "model.add(tf.keras.layers.Flatten()) \n",
    "model.add(tf.keras.layers.Dense(128, activation=tf.nn.relu))\n",
    "model.add(tf.keras.layers.Dense(128, activation=tf.nn.relu))\n",
    "model.add(tf.keras.layers.Dense(128, activation=tf.nn.relu))\n",
    "model.add(tf.keras.layers.Dense(10, activation=tf.nn.softmax))"
   ]
  },
  {
   "cell_type": "markdown",
   "id": "2a48be64-92a3-41ac-8a62-7e9210949d6d",
   "metadata": {},
   "source": [
    "**Compiling the Network**\n",
    "- With **.compile()**, the network is prepared for training.\n",
    "- The relevant parameters for us are **optimizer, loss, and metrics**.\n",
    "- Optimizer: The optimization algorithm that **performs weight adjustments during training**. Since the learning rate is not further defined, it defaults to the default learning rate of 0.001.\n",
    "- Loss: The loss function measures **how well the model performs on the training data**.\n",
    "- Metrics: The metrics to be monitored during training to **evaluate the model's performance**."
   ]
  },
  {
   "cell_type": "code",
   "execution_count": 35,
   "id": "085fd6c0",
   "metadata": {},
   "outputs": [
    {
     "name": "stdout",
     "output_type": "stream",
     "text": [
      "WARNING:tensorflow:From C:\\Users\\max\\anaconda3\\lib\\site-packages\\keras\\src\\optimizers\\__init__.py:309: The name tf.train.Optimizer is deprecated. Please use tf.compat.v1.train.Optimizer instead.\n",
      "\n"
     ]
    }
   ],
   "source": [
    "# Here, the model is prepared for training.\n",
    "\n",
    "model.compile(optimizer=\"adam\",\n",
    "             loss=\"sparse_categorical_crossentropy\",\n",
    "             metrics = [\"accuracy\"])"
   ]
  },
  {
   "cell_type": "markdown",
   "id": "56bbaed3-ec2a-44bd-90ee-f1586512733c",
   "metadata": {},
   "source": [
    "**Training the Network**\n",
    "- With **.fit()**, the network is trained.\n",
    "- During this process, the **weights between the neurons and the biases** are adjusted to improve the quality of the prediction.\n",
    "- In each epoch, all **training data pass through the network once**, so the network sees each image 8 times. The model is trained in 8 epochs.\n",
    "- The training data are divided into **batches**, each with 32 (default) images.\n",
    "- After a batch has passed through the network, the **weights are adjusted**. This process repeats for all batches. In this case, 60,000 / 32 = 1,875.\n",
    "- The **output indicates the size of the loss (error) and the accuracy for the training and test** datasets. These figures help us analyze the training later and draw conclusions about the model quality. We will need these details later."
   ]
  },
  {
   "cell_type": "code",
   "execution_count": 36,
   "id": "9561f8a4",
   "metadata": {},
   "outputs": [
    {
     "name": "stdout",
     "output_type": "stream",
     "text": [
      "Epoch 1/8\n",
      "WARNING:tensorflow:From C:\\Users\\max\\anaconda3\\lib\\site-packages\\keras\\src\\utils\\tf_utils.py:492: The name tf.ragged.RaggedTensorValue is deprecated. Please use tf.compat.v1.ragged.RaggedTensorValue instead.\n",
      "\n",
      "WARNING:tensorflow:From C:\\Users\\max\\anaconda3\\lib\\site-packages\\keras\\src\\engine\\base_layer_utils.py:384: The name tf.executing_eagerly_outside_functions is deprecated. Please use tf.compat.v1.executing_eagerly_outside_functions instead.\n",
      "\n",
      "1875/1875 [==============================] - 9s 4ms/step - loss: 0.4906 - accuracy: 0.8191 - val_loss: 0.4025 - val_accuracy: 0.8546\n",
      "Epoch 2/8\n",
      "1875/1875 [==============================] - 12s 6ms/step - loss: 0.3617 - accuracy: 0.8663 - val_loss: 0.3711 - val_accuracy: 0.8606\n",
      "Epoch 3/8\n",
      "1875/1875 [==============================] - 12s 6ms/step - loss: 0.3234 - accuracy: 0.8777 - val_loss: 0.3615 - val_accuracy: 0.8654\n",
      "Epoch 4/8\n",
      "1875/1875 [==============================] - 11s 6ms/step - loss: 0.3020 - accuracy: 0.8869 - val_loss: 0.3388 - val_accuracy: 0.8756\n",
      "Epoch 5/8\n",
      "1875/1875 [==============================] - 8s 4ms/step - loss: 0.2822 - accuracy: 0.8939 - val_loss: 0.3422 - val_accuracy: 0.8748\n",
      "Epoch 6/8\n",
      "1875/1875 [==============================] - 9s 5ms/step - loss: 0.2683 - accuracy: 0.8990 - val_loss: 0.3426 - val_accuracy: 0.8774\n",
      "Epoch 7/8\n",
      "1875/1875 [==============================] - 8s 4ms/step - loss: 0.2565 - accuracy: 0.9023 - val_loss: 0.3246 - val_accuracy: 0.8795\n",
      "Epoch 8/8\n",
      "1875/1875 [==============================] - 10s 5ms/step - loss: 0.2445 - accuracy: 0.9064 - val_loss: 0.3360 - val_accuracy: 0.8762\n"
     ]
    }
   ],
   "source": [
    "# The model is trained.\n",
    "\n",
    "model_history = model.fit(x_train, y_train, epochs=8, validation_data=(x_test, y_test))"
   ]
  },
  {
   "cell_type": "code",
   "execution_count": 37,
   "id": "db051425",
   "metadata": {},
   "outputs": [
    {
     "name": "stdout",
     "output_type": "stream",
     "text": [
      "Model: \"sequential\"\n",
      "_________________________________________________________________\n",
      " Layer (type)                Output Shape              Param #   \n",
      "=================================================================\n",
      " flatten (Flatten)           (None, 784)               0         \n",
      "                                                                 \n",
      " dense (Dense)               (None, 128)               100480    \n",
      "                                                                 \n",
      " dense_1 (Dense)             (None, 128)               16512     \n",
      "                                                                 \n",
      " dense_2 (Dense)             (None, 128)               16512     \n",
      "                                                                 \n",
      " dense_3 (Dense)             (None, 10)                1290      \n",
      "                                                                 \n",
      "=================================================================\n",
      "Total params: 134794 (526.54 KB)\n",
      "Trainable params: 134794 (526.54 KB)\n",
      "Non-trainable params: 0 (0.00 Byte)\n",
      "_________________________________________________________________\n"
     ]
    }
   ],
   "source": [
    "# The model parameters are displayed.\n",
    "\n",
    "model.summary()"
   ]
  },
  {
   "cell_type": "markdown",
   "id": "208ec21e-48fb-4c63-bb26-00042109a4ea",
   "metadata": {},
   "source": [
    "**Summary**\n",
    "- In the network, **134,794 parameters (weights and biases)** were trained, which are composed as follows:\n",
    "- 100,352 weights from the **input layer to the first hidden layer** (28 * 28 * 128) plus 128 biases for each neuron of the first hidden layer - **Total: 100,480**\n",
    "- 16,384 weights from the **first hidden layer to the second hidden layer** (128 * 128) plus 128 biases for each neuron of the second hidden layer - **Total: 16,512**\n",
    "- 16,384 weights from the **second hidden layer to the third hidden layer** (128 * 128) plus 128 biases for each neuron of the second hidden layer - **Total: 16,512**\n",
    "- 1,280 weights from the **third hidden layer to the output layer** (128 * 10) plus 10 biases for each neuron of the output layer - **Total: 1,290**"
   ]
  },
  {
   "cell_type": "markdown",
   "id": "45639849-b8d4-4ae3-857a-0e35ea9c8441",
   "metadata": {},
   "source": [
    "---"
   ]
  },
  {
   "cell_type": "markdown",
   "id": "34b94b38-f887-4584-8a0d-f734de172887",
   "metadata": {},
   "source": [
    "**Excursion into Overfitting**"
   ]
  },
  {
   "cell_type": "markdown",
   "id": "5eea5a41-60fa-438c-8317-c40ed53dd37e",
   "metadata": {},
   "source": [
    "- To check if the model is not overfitting, we look at the **training history**.\n",
    "- Overfitting: The model **memorizes the specific patterns** of the training data but **fails to acquire the ability **to recognize general patterns**.\n",
    "- Below, the **performance of the model after each epoch** of the training process is graphically displayed.\n",
    "- If the model were **overfitting**, then **the values for the val_accuracy would not increase**.\n",
    "- That is not the case here; therefore, **the model is not overfitted**."
   ]
  },
  {
   "cell_type": "code",
   "execution_count": 38,
   "id": "e1c7d006-e41c-495a-8a97-845605825743",
   "metadata": {},
   "outputs": [],
   "source": [
    "# Importing the Pandas Library.\n",
    "\n",
    "import pandas as pd"
   ]
  },
  {
   "cell_type": "code",
   "execution_count": 39,
   "id": "57aa573e-3b0a-49ff-a14b-f60693664dad",
   "metadata": {},
   "outputs": [
    {
     "name": "stdout",
     "output_type": "stream",
     "text": [
      "       loss  accuracy  val_loss  val_accuracy\n",
      "0  0.490597  0.819150  0.402531        0.8546\n",
      "1  0.361696  0.866300  0.371119        0.8606\n",
      "2  0.323421  0.877667  0.361526        0.8654\n",
      "3  0.302037  0.886900  0.338805        0.8756\n",
      "4  0.282239  0.893900  0.342247        0.8748\n",
      "5  0.268281  0.898967  0.342552        0.8774\n",
      "6  0.256487  0.902267  0.324609        0.8795\n",
      "7  0.244520  0.906450  0.335995        0.8762\n"
     ]
    },
    {
     "data": {
      "text/plain": [
       "<Axes: >"
      ]
     },
     "execution_count": 39,
     "metadata": {},
     "output_type": "execute_result"
    },
    {
     "data": {
      "image/png": "[encoded data removed]",
      "text/plain": [
       "<Figure size 400x300 with 1 Axes>"
      ]
     },
     "metadata": {},
     "output_type": "display_data"
    }
   ],
   "source": [
    "# Visualization of the Training History. \n",
    "\n",
    "history_df = pd.DataFrame.from_dict(model_history.history)\n",
    "print(history_df)\n",
    "history_df[[\"accuracy\", \"val_accuracy\"]].plot(figsize=(4, 3))"
   ]
  },
  {
   "cell_type": "markdown",
   "id": "6e47f78e-6cb8-4328-a7f3-d81714908d96",
   "metadata": {},
   "source": [
    "---"
   ]
  },
  {
   "cell_type": "markdown",
   "id": "9e1e5fbf-504e-47f6-b71e-66771a5ee6e3",
   "metadata": {},
   "source": [
    "### **3. Model Evaluation**"
   ]
  },
  {
   "cell_type": "markdown",
   "id": "ac527a5b-fd72-473f-97c5-cbad8867495b",
   "metadata": {},
   "source": [
    "#### 3.1 Model Assessment"
   ]
  },
  {
   "cell_type": "markdown",
   "id": "1f471cd7-a37a-4dec-b216-73e9200273cc",
   "metadata": {},
   "source": [
    "- Now, the **network's performance is evaluated**.\n",
    "- How well does the network **classify new images**? "
   ]
  },
  {
   "cell_type": "code",
   "execution_count": 40,
   "id": "423c870f",
   "metadata": {},
   "outputs": [
    {
     "name": "stdout",
     "output_type": "stream",
     "text": [
      "313/313 [==============================] - 1s 2ms/step\n"
     ]
    }
   ],
   "source": [
    "# The test data passes through the network. \n",
    "\n",
    "predictions = model.predict(x_test)"
   ]
  },
  {
   "cell_type": "code",
   "execution_count": 41,
   "id": "beeac23f-078c-42a8-afc2-579c756fd8c3",
   "metadata": {},
   "outputs": [
    {
     "name": "stdout",
     "output_type": "stream",
     "text": [
      "              precision    recall  f1-score   support\n",
      "\n",
      "           0      0.857     0.804     0.830      1000\n",
      "           1      0.983     0.979     0.981      1000\n",
      "           2      0.771     0.814     0.792      1000\n",
      "           3      0.907     0.864     0.885      1000\n",
      "           4      0.764     0.815     0.789      1000\n",
      "           5      0.987     0.940     0.963      1000\n",
      "           6      0.722     0.692     0.707      1000\n",
      "           7      0.872     0.982     0.924      1000\n",
      "           8      0.953     0.978     0.965      1000\n",
      "           9      0.963     0.894     0.927      1000\n",
      "\n",
      "    accuracy                          0.876     10000\n",
      "   macro avg      0.878     0.876     0.876     10000\n",
      "weighted avg      0.878     0.876     0.876     10000\n",
      "\n"
     ]
    }
   ],
   "source": [
    "# The prediction of the test data is compared with the real values and provided in a report.\n",
    "\n",
    "from sklearn.metrics import classification_report\n",
    "\n",
    "if predictions.ndim == 1:\n",
    "    predicted_classes = predictions\n",
    "else:\n",
    "    predicted_classes = np.argmax(predictions, axis=1)\n",
    "\n",
    "if y_test.ndim == 1:\n",
    "    actual_classes = y_test\n",
    "else:\n",
    "    actual_classes = np.argmax(y_test, axis=1)\n",
    "\n",
    "report = classification_report(actual_classes, predicted_classes, digits=3)\n",
    "print(report)"
   ]
  },
  {
   "cell_type": "markdown",
   "id": "09ebfbe2-8c6c-4bf4-8f47-c882530416c8",
   "metadata": {},
   "source": [
    "**Summary**\n",
    "\n",
    "- Fundamentally, the network can make **two mistakes when classifying**, for example, a Shirt is classified as another piece of clothing, or another piece of clothing is classified as a Shirt. These errors are also called **\"False positives\"** (fälschlicherweise positiv) and **\"False negatives\"** (fälschlicherweise negativ).\n",
    "- For each piece of clothing, one can create a **confusion matrix** and calculate the following values:\n",
    "- **Precision** = (true positive / (true positive + false positive)) -> **How many of the positively predicted cases are actually positive**?\n",
    "- **Recall** = (true positive / (true positive + false negative)) -> **How many of the truly positive cases were also identified as such**?\n",
    "- True positives: Model predicts Shirt; in reality it is a Shirt.\n",
    "- True negatives: Model predicts not a Shirt; in reality it is not a Shirt.\n",
    "- False positives: Model predicts Shirt; in reality it is not a default Shirt.\n",
    "- False negatives: Model predicts no Shirt; in reality it is a Shirt.\n",
    "- The **accuracy indicates how many of the images were correctly classified**. Calculation: Number of correct predictions / Total number of predictions.\n",
    "- Reminder: The numbers are assosited with the clothing as followed: **0 T-shirt/top, 1 Trouser, 2 Pullover, 3 Dress, 4 Coat, 5 Sandal, 6 Shirt, 7 Sneaker, 8 Bag, 9 Ankle boot**\n",
    "- It can be seen that the network, for example, classifies 89.4% of the ankel boots (label 9) as ankel boots (Recall). Thus, 10.6% of the ankel boots are classified as another piece of clothing.\n",
    "- In total, **87.6% of all images are correctly classified**."
   ]
  },
  {
   "cell_type": "markdown",
   "id": "cd68b282-2747-45fd-b50e-5c41386b76ab",
   "metadata": {},
   "source": [
    "#### 3.2 Prediction of a Custom Image"
   ]
  },
  {
   "cell_type": "markdown",
   "id": "51bafa0a-83f3-4354-819a-f1f9774476d1",
   "metadata": {},
   "source": [
    "- To conclude, the network will **classify a new image**.\n",
    "- For this, an image will be uploaded. **Various adjustments** will follow so that the image information is in the form that the network can process.\n",
    "- **Finally, the network makes a prediction**."
   ]
  },
  {
   "cell_type": "code",
   "execution_count": 42,
   "id": "b69a9b9b-396b-4cd5-b778-3d9a8135a891",
   "metadata": {},
   "outputs": [],
   "source": [
    "# From the PIL library, the Image module is imported.\n",
    "\n",
    "from PIL import Image"
   ]
  },
  {
   "cell_type": "code",
   "execution_count": 43,
   "id": "fe256c2a",
   "metadata": {},
   "outputs": [
    {
     "data": {
      "image/png": "[encoded data removed]",
      "text/plain": [
       "<PIL.Image.Image image mode=RGBA size=300x300>"
      ]
     },
     "execution_count": 43,
     "metadata": {},
     "output_type": "execute_result"
    }
   ],
   "source": [
    "# Opening the PNG image.\n",
    " \n",
    "img = Image.open('Shirt_NN.png')\n",
    "img = img.resize((300, 300))\n",
    "img"
   ]
  },
  {
   "cell_type": "code",
   "execution_count": 44,
   "id": "19ce6616",
   "metadata": {
    "scrolled": true
   },
   "outputs": [
    {
     "data": {
      "image/jpeg": "[encoded data removed]",
      "image/png": "[encoded data removed]",
      "text/plain": [
       "<PIL.Image.Image image mode=L size=300x300>"
      ]
     },
     "execution_count": 44,
     "metadata": {},
     "output_type": "execute_result"
    }
   ],
   "source": [
    "# The image is converted to grayscale.\n",
    "\n",
    "img = img.convert('L')\n",
    "img"
   ]
  },
  {
   "cell_type": "code",
   "execution_count": 45,
   "id": "7bf68774",
   "metadata": {},
   "outputs": [
    {
     "data": {
      "image/jpeg": "[encoded data removed]",
      "image/png": "[encoded data removed]",
      "text/plain": [
       "<PIL.Image.Image image mode=L size=28x28>"
      ]
     },
     "execution_count": 45,
     "metadata": {},
     "output_type": "execute_result"
    }
   ],
   "source": [
    "# The size of the image is changed to 28x28 pixels.\n",
    "\n",
    "img = img.resize((28, 28))\n",
    "img"
   ]
  },
  {
   "cell_type": "code",
   "execution_count": 46,
   "id": "7793de00",
   "metadata": {},
   "outputs": [
    {
     "data": {
      "image/jpeg": "[encoded data removed]",
      "image/png": "[encoded data removed]",
      "text/plain": [
       "<PIL.Image.Image image mode=L size=28x28>"
      ]
     },
     "execution_count": 46,
     "metadata": {},
     "output_type": "execute_result"
    }
   ],
   "source": [
    "# The image is inverted so that black is stored as 0 and white as 255.\n",
    "\n",
    "from PIL import ImageOps\n",
    "img = ImageOps.invert(img)\n",
    "img"
   ]
  },
  {
   "cell_type": "code",
   "execution_count": 47,
   "id": "318900c0",
   "metadata": {
    "scrolled": true
   },
   "outputs": [
    {
     "data": {
      "text/plain": [
       "array([[[ 16,  15,  15,  15,  15,  15,  13,   6,  12,  35, 101, 176,\n",
       "         185, 163, 160, 173, 186, 158,  98,  43,  11,   8,  14,  15,\n",
       "          15,  15,  15,  15],\n",
       "        [ 16,  15,  15,  15,  15,  11,  26,  98, 160, 201, 221, 222,\n",
       "         219, 176, 167, 192, 222, 223, 222, 205, 162,  79,  12,  14,\n",
       "          15,  15,  15,  15],\n",
       "        [ 16,  15,  15,  15,  12,  29, 172, 224, 223, 219, 217, 217,\n",
       "         217, 220, 221, 219, 217, 215, 214, 218, 225, 224, 134,  13,\n",
       "          14,  15,  15,  15],\n",
       "        [ 16,  15,  15,  15,   9, 126, 225, 214, 214, 216, 217, 217,\n",
       "         217, 217, 217, 218, 218, 216, 214, 215, 217, 219, 221,  68,\n",
       "           9,  15,  15,  15],\n",
       "        [ 16,  15,  15,  13,  27, 191, 219, 215, 214, 215, 215, 216,\n",
       "         216, 217, 216, 217, 216, 219, 216, 216, 216, 217, 225, 141,\n",
       "           8,  15,  15,  15],\n",
       "        [ 16,  15,  15,   9,  71, 219, 220, 215, 216, 216, 215, 216,\n",
       "         216, 216, 215, 220, 172, 173, 223, 216, 216, 218, 222, 194,\n",
       "          27,  13,  15,  15],\n",
       "        [ 16,  15,  15,   8, 125, 225, 221, 218, 215, 215, 215, 216,\n",
       "         216, 216, 216, 220, 180, 105, 161, 216, 217, 218, 220, 218,\n",
       "          59,   9,  15,  15],\n",
       "        [ 16,  15,  14,  18, 175, 224, 221, 220, 215, 215, 215, 215,\n",
       "         216, 216, 216, 218, 213, 183, 178, 190, 219, 219, 219, 226,\n",
       "         102,   7,  15,  15],\n",
       "        [ 16,  15,  11,  44, 208, 222, 221, 222, 215, 215, 215, 216,\n",
       "         217, 217, 217, 218, 214, 209, 207, 209, 218, 220, 220, 225,\n",
       "         165,  12,  14,  15],\n",
       "        [ 16,  15,   9,  82, 226, 223, 223, 223, 216, 216, 216, 216,\n",
       "         217, 217, 217, 218, 218, 219, 219, 219, 218, 221, 221, 225,\n",
       "         212,  38,  12,  15],\n",
       "        [ 16,  15,  10,  72, 178, 209, 224, 227, 215, 216, 217, 216,\n",
       "         217, 218, 218, 219, 219, 218, 218, 218, 218, 222, 214, 194,\n",
       "         145,  33,  13,  15],\n",
       "        [ 16,  15,  15,  15,  24,  48,  71, 130, 218, 217, 217, 217,\n",
       "         218, 218, 218, 219, 219, 219, 218, 219, 220, 106,  49,  30,\n",
       "          11,  13,  15,  15],\n",
       "        [ 16,  15,  15,  15,  14,  13,   7,  74, 219, 218, 217, 218,\n",
       "         219, 219, 219, 219, 219, 219, 219, 221, 219,  57,   6,  13,\n",
       "          15,  15,  15,  15],\n",
       "        [ 16,  15,  15,  15,  15,  15,   9,  75, 220, 219, 218, 219,\n",
       "         220, 220, 220, 219, 219, 219, 219, 221, 216,  53,  10,  15,\n",
       "          15,  15,  15,  15],\n",
       "        [ 16,  15,  15,  15,  15,  15,   9,  68, 219, 220, 218, 220,\n",
       "         221, 221, 220, 219, 219, 219, 219, 221, 212,  44,  11,  15,\n",
       "          15,  15,  15,  15],\n",
       "        [ 16,  15,  15,  15,  15,  15,   9,  66, 219, 220, 219, 221,\n",
       "         222, 221, 222, 221, 220, 220, 219, 223, 207,  39,  12,  15,\n",
       "          15,  15,  15,  15],\n",
       "        [ 16,  15,  15,  15,  15,  15,  10,  66, 220, 220, 220, 221,\n",
       "         222, 222, 222, 222, 221, 220, 220, 223, 206,  36,  12,  15,\n",
       "          15,  15,  15,  15],\n",
       "        [ 16,  15,  15,  15,  15,  15,  10,  65, 221, 221, 221, 222,\n",
       "         223, 223, 223, 223, 221, 221, 220, 223, 206,  36,  12,  15,\n",
       "          15,  15,  15,  15],\n",
       "        [ 16,  15,  15,  15,  15,  15,  10,  64, 221, 220, 222, 223,\n",
       "         223, 224, 224, 223, 222, 222, 220, 223, 205,  35,  12,  15,\n",
       "          15,  15,  15,  15],\n",
       "        [ 16,  15,  15,  15,  15,  15,  10,  66, 221, 220, 222, 223,\n",
       "         223, 224, 224, 224, 224, 223, 222, 224, 200,  30,  13,  15,\n",
       "          15,  15,  15,  15],\n",
       "        [ 16,  15,  15,  15,  15,  15,  10,  67, 221, 220, 222, 223,\n",
       "         224, 225, 225, 225, 225, 224, 222, 225, 198,  28,  13,  15,\n",
       "          15,  15,  15,  15],\n",
       "        [ 16,  15,  15,  15,  15,  15,  10,  70, 221, 219, 222, 224,\n",
       "         225, 226, 225, 225, 225, 224, 222, 225, 197,  26,  13,  15,\n",
       "          15,  15,  15,  15],\n",
       "        [ 16,  15,  15,  15,  15,  15,  10,  77, 223, 220, 223, 226,\n",
       "         226, 226, 226, 226, 225, 225, 223, 225, 193,  23,  13,  15,\n",
       "          15,  15,  15,  15],\n",
       "        [ 16,  15,  15,  15,  15,  15,   9,  88, 224, 221, 224, 226,\n",
       "         226, 226, 226, 226, 226, 226, 224, 225, 197,  25,  13,  15,\n",
       "          15,  15,  15,  15],\n",
       "        [ 16,  15,  15,  15,  15,  15,   9,  85, 224, 222, 226, 226,\n",
       "         227, 227, 227, 227, 225, 226, 225, 226, 199,  27,  13,  15,\n",
       "          15,  15,  15,  15],\n",
       "        [ 16,  15,  15,  15,  15,  15,   9,  90, 232, 225, 226, 226,\n",
       "         227, 227, 227, 227, 226, 226, 226, 226, 208,  32,  12,  15,\n",
       "          15,  15,  15,  15],\n",
       "        [ 16,  15,  15,  15,  15,  15,  13,  38, 151, 211, 228, 231,\n",
       "         233, 233, 232, 232, 232, 232, 231, 220, 163,  22,  13,  15,\n",
       "          15,  15,  15,  15],\n",
       "        [ 16,  15,  15,  15,  15,  15,  15,  13,  15,  48,  92, 124,\n",
       "         145, 155, 157, 150, 145, 134, 106,  61,  19,  13,  15,  15,\n",
       "          15,  15,  15,  15]]], dtype=uint8)"
      ]
     },
     "execution_count": 47,
     "metadata": {},
     "output_type": "execute_result"
    }
   ],
   "source": [
    "# The image is converted to a Numpy array.\n",
    "\n",
    "img_array = np.array(img).reshape((1,28,28))\n",
    "img_array"
   ]
  },
  {
   "cell_type": "code",
   "execution_count": 48,
   "id": "c2cf03aa",
   "metadata": {},
   "outputs": [
    {
     "data": {
      "text/plain": [
       "array([[[0.0627451 , 0.05882353, 0.05882353, 0.05882353, 0.05882353,\n",
       "         0.05882353, 0.05098039, 0.02352941, 0.04705882, 0.13725491,\n",
       "         0.39607844, 0.6901961 , 0.7254902 , 0.6392157 , 0.627451  ,\n",
       "         0.6784314 , 0.7294118 , 0.61960787, 0.38431373, 0.16862746,\n",
       "         0.04313726, 0.03137255, 0.05490196, 0.05882353, 0.05882353,\n",
       "         0.05882353, 0.05882353, 0.05882353],\n",
       "        [0.0627451 , 0.05882353, 0.05882353, 0.05882353, 0.05882353,\n",
       "         0.04313726, 0.10196079, 0.38431373, 0.627451  , 0.7882353 ,\n",
       "         0.8666667 , 0.87058824, 0.85882354, 0.6901961 , 0.654902  ,\n",
       "         0.7529412 , 0.87058824, 0.8745098 , 0.87058824, 0.8039216 ,\n",
       "         0.63529414, 0.30980393, 0.04705882, 0.05490196, 0.05882353,\n",
       "         0.05882353, 0.05882353, 0.05882353],\n",
       "        [0.0627451 , 0.05882353, 0.05882353, 0.05882353, 0.04705882,\n",
       "         0.11372549, 0.6745098 , 0.8784314 , 0.8745098 , 0.85882354,\n",
       "         0.8509804 , 0.8509804 , 0.8509804 , 0.8627451 , 0.8666667 ,\n",
       "         0.85882354, 0.8509804 , 0.84313726, 0.8392157 , 0.85490197,\n",
       "         0.88235295, 0.8784314 , 0.5254902 , 0.05098039, 0.05490196,\n",
       "         0.05882353, 0.05882353, 0.05882353],\n",
       "        [0.0627451 , 0.05882353, 0.05882353, 0.05882353, 0.03529412,\n",
       "         0.49411765, 0.88235295, 0.8392157 , 0.8392157 , 0.84705883,\n",
       "         0.8509804 , 0.8509804 , 0.8509804 , 0.8509804 , 0.8509804 ,\n",
       "         0.85490197, 0.85490197, 0.84705883, 0.8392157 , 0.84313726,\n",
       "         0.8509804 , 0.85882354, 0.8666667 , 0.26666668, 0.03529412,\n",
       "         0.05882353, 0.05882353, 0.05882353],\n",
       "        [0.0627451 , 0.05882353, 0.05882353, 0.05098039, 0.10588235,\n",
       "         0.7490196 , 0.85882354, 0.84313726, 0.8392157 , 0.84313726,\n",
       "         0.84313726, 0.84705883, 0.84705883, 0.8509804 , 0.84705883,\n",
       "         0.8509804 , 0.84705883, 0.85882354, 0.84705883, 0.84705883,\n",
       "         0.84705883, 0.8509804 , 0.88235295, 0.5529412 , 0.03137255,\n",
       "         0.05882353, 0.05882353, 0.05882353],\n",
       "        [0.0627451 , 0.05882353, 0.05882353, 0.03529412, 0.2784314 ,\n",
       "         0.85882354, 0.8627451 , 0.84313726, 0.84705883, 0.84705883,\n",
       "         0.84313726, 0.84705883, 0.84705883, 0.84705883, 0.84313726,\n",
       "         0.8627451 , 0.6745098 , 0.6784314 , 0.8745098 , 0.84705883,\n",
       "         0.84705883, 0.85490197, 0.87058824, 0.7607843 , 0.10588235,\n",
       "         0.05098039, 0.05882353, 0.05882353],\n",
       "        [0.0627451 , 0.05882353, 0.05882353, 0.03137255, 0.49019608,\n",
       "         0.88235295, 0.8666667 , 0.85490197, 0.84313726, 0.84313726,\n",
       "         0.84313726, 0.84705883, 0.84705883, 0.84705883, 0.84705883,\n",
       "         0.8627451 , 0.7058824 , 0.4117647 , 0.6313726 , 0.84705883,\n",
       "         0.8509804 , 0.85490197, 0.8627451 , 0.85490197, 0.23137255,\n",
       "         0.03529412, 0.05882353, 0.05882353],\n",
       "        [0.0627451 , 0.05882353, 0.05490196, 0.07058824, 0.6862745 ,\n",
       "         0.8784314 , 0.8666667 , 0.8627451 , 0.84313726, 0.84313726,\n",
       "         0.84313726, 0.84313726, 0.84705883, 0.84705883, 0.84705883,\n",
       "         0.85490197, 0.8352941 , 0.7176471 , 0.69803923, 0.74509805,\n",
       "         0.85882354, 0.85882354, 0.85882354, 0.8862745 , 0.4       ,\n",
       "         0.02745098, 0.05882353, 0.05882353],\n",
       "        [0.0627451 , 0.05882353, 0.04313726, 0.17254902, 0.8156863 ,\n",
       "         0.87058824, 0.8666667 , 0.87058824, 0.84313726, 0.84313726,\n",
       "         0.84313726, 0.84705883, 0.8509804 , 0.8509804 , 0.8509804 ,\n",
       "         0.85490197, 0.8392157 , 0.81960785, 0.8117647 , 0.81960785,\n",
       "         0.85490197, 0.8627451 , 0.8627451 , 0.88235295, 0.64705884,\n",
       "         0.04705882, 0.05490196, 0.05882353],\n",
       "        [0.0627451 , 0.05882353, 0.03529412, 0.32156864, 0.8862745 ,\n",
       "         0.8745098 , 0.8745098 , 0.8745098 , 0.84705883, 0.84705883,\n",
       "         0.84705883, 0.84705883, 0.8509804 , 0.8509804 , 0.8509804 ,\n",
       "         0.85490197, 0.85490197, 0.85882354, 0.85882354, 0.85882354,\n",
       "         0.85490197, 0.8666667 , 0.8666667 , 0.88235295, 0.83137256,\n",
       "         0.14901961, 0.04705882, 0.05882353],\n",
       "        [0.0627451 , 0.05882353, 0.03921569, 0.28235295, 0.69803923,\n",
       "         0.81960785, 0.8784314 , 0.8901961 , 0.84313726, 0.84705883,\n",
       "         0.8509804 , 0.84705883, 0.8509804 , 0.85490197, 0.85490197,\n",
       "         0.85882354, 0.85882354, 0.85490197, 0.85490197, 0.85490197,\n",
       "         0.85490197, 0.87058824, 0.8392157 , 0.7607843 , 0.5686275 ,\n",
       "         0.12941177, 0.05098039, 0.05882353],\n",
       "        [0.0627451 , 0.05882353, 0.05882353, 0.05882353, 0.09411765,\n",
       "         0.1882353 , 0.2784314 , 0.50980395, 0.85490197, 0.8509804 ,\n",
       "         0.8509804 , 0.8509804 , 0.85490197, 0.85490197, 0.85490197,\n",
       "         0.85882354, 0.85882354, 0.85882354, 0.85490197, 0.85882354,\n",
       "         0.8627451 , 0.41568628, 0.19215687, 0.11764706, 0.04313726,\n",
       "         0.05098039, 0.05882353, 0.05882353],\n",
       "        [0.0627451 , 0.05882353, 0.05882353, 0.05882353, 0.05490196,\n",
       "         0.05098039, 0.02745098, 0.2901961 , 0.85882354, 0.85490197,\n",
       "         0.8509804 , 0.85490197, 0.85882354, 0.85882354, 0.85882354,\n",
       "         0.85882354, 0.85882354, 0.85882354, 0.85882354, 0.8666667 ,\n",
       "         0.85882354, 0.22352941, 0.02352941, 0.05098039, 0.05882353,\n",
       "         0.05882353, 0.05882353, 0.05882353],\n",
       "        [0.0627451 , 0.05882353, 0.05882353, 0.05882353, 0.05882353,\n",
       "         0.05882353, 0.03529412, 0.29411766, 0.8627451 , 0.85882354,\n",
       "         0.85490197, 0.85882354, 0.8627451 , 0.8627451 , 0.8627451 ,\n",
       "         0.85882354, 0.85882354, 0.85882354, 0.85882354, 0.8666667 ,\n",
       "         0.84705883, 0.20784314, 0.03921569, 0.05882353, 0.05882353,\n",
       "         0.05882353, 0.05882353, 0.05882353],\n",
       "        [0.0627451 , 0.05882353, 0.05882353, 0.05882353, 0.05882353,\n",
       "         0.05882353, 0.03529412, 0.26666668, 0.85882354, 0.8627451 ,\n",
       "         0.85490197, 0.8627451 , 0.8666667 , 0.8666667 , 0.8627451 ,\n",
       "         0.85882354, 0.85882354, 0.85882354, 0.85882354, 0.8666667 ,\n",
       "         0.83137256, 0.17254902, 0.04313726, 0.05882353, 0.05882353,\n",
       "         0.05882353, 0.05882353, 0.05882353],\n",
       "        [0.0627451 , 0.05882353, 0.05882353, 0.05882353, 0.05882353,\n",
       "         0.05882353, 0.03529412, 0.25882354, 0.85882354, 0.8627451 ,\n",
       "         0.85882354, 0.8666667 , 0.87058824, 0.8666667 , 0.87058824,\n",
       "         0.8666667 , 0.8627451 , 0.8627451 , 0.85882354, 0.8745098 ,\n",
       "         0.8117647 , 0.15294118, 0.04705882, 0.05882353, 0.05882353,\n",
       "         0.05882353, 0.05882353, 0.05882353],\n",
       "        [0.0627451 , 0.05882353, 0.05882353, 0.05882353, 0.05882353,\n",
       "         0.05882353, 0.03921569, 0.25882354, 0.8627451 , 0.8627451 ,\n",
       "         0.8627451 , 0.8666667 , 0.87058824, 0.87058824, 0.87058824,\n",
       "         0.87058824, 0.8666667 , 0.8627451 , 0.8627451 , 0.8745098 ,\n",
       "         0.80784315, 0.14117648, 0.04705882, 0.05882353, 0.05882353,\n",
       "         0.05882353, 0.05882353, 0.05882353],\n",
       "        [0.0627451 , 0.05882353, 0.05882353, 0.05882353, 0.05882353,\n",
       "         0.05882353, 0.03921569, 0.25490198, 0.8666667 , 0.8666667 ,\n",
       "         0.8666667 , 0.87058824, 0.8745098 , 0.8745098 , 0.8745098 ,\n",
       "         0.8745098 , 0.8666667 , 0.8666667 , 0.8627451 , 0.8745098 ,\n",
       "         0.80784315, 0.14117648, 0.04705882, 0.05882353, 0.05882353,\n",
       "         0.05882353, 0.05882353, 0.05882353],\n",
       "        [0.0627451 , 0.05882353, 0.05882353, 0.05882353, 0.05882353,\n",
       "         0.05882353, 0.03921569, 0.2509804 , 0.8666667 , 0.8627451 ,\n",
       "         0.87058824, 0.8745098 , 0.8745098 , 0.8784314 , 0.8784314 ,\n",
       "         0.8745098 , 0.87058824, 0.87058824, 0.8627451 , 0.8745098 ,\n",
       "         0.8039216 , 0.13725491, 0.04705882, 0.05882353, 0.05882353,\n",
       "         0.05882353, 0.05882353, 0.05882353],\n",
       "        [0.0627451 , 0.05882353, 0.05882353, 0.05882353, 0.05882353,\n",
       "         0.05882353, 0.03921569, 0.25882354, 0.8666667 , 0.8627451 ,\n",
       "         0.87058824, 0.8745098 , 0.8745098 , 0.8784314 , 0.8784314 ,\n",
       "         0.8784314 , 0.8784314 , 0.8745098 , 0.87058824, 0.8784314 ,\n",
       "         0.78431374, 0.11764706, 0.05098039, 0.05882353, 0.05882353,\n",
       "         0.05882353, 0.05882353, 0.05882353],\n",
       "        [0.0627451 , 0.05882353, 0.05882353, 0.05882353, 0.05882353,\n",
       "         0.05882353, 0.03921569, 0.2627451 , 0.8666667 , 0.8627451 ,\n",
       "         0.87058824, 0.8745098 , 0.8784314 , 0.88235295, 0.88235295,\n",
       "         0.88235295, 0.88235295, 0.8784314 , 0.87058824, 0.88235295,\n",
       "         0.7764706 , 0.10980392, 0.05098039, 0.05882353, 0.05882353,\n",
       "         0.05882353, 0.05882353, 0.05882353],\n",
       "        [0.0627451 , 0.05882353, 0.05882353, 0.05882353, 0.05882353,\n",
       "         0.05882353, 0.03921569, 0.27450982, 0.8666667 , 0.85882354,\n",
       "         0.87058824, 0.8784314 , 0.88235295, 0.8862745 , 0.88235295,\n",
       "         0.88235295, 0.88235295, 0.8784314 , 0.87058824, 0.88235295,\n",
       "         0.77254903, 0.10196079, 0.05098039, 0.05882353, 0.05882353,\n",
       "         0.05882353, 0.05882353, 0.05882353],\n",
       "        [0.0627451 , 0.05882353, 0.05882353, 0.05882353, 0.05882353,\n",
       "         0.05882353, 0.03921569, 0.3019608 , 0.8745098 , 0.8627451 ,\n",
       "         0.8745098 , 0.8862745 , 0.8862745 , 0.8862745 , 0.8862745 ,\n",
       "         0.8862745 , 0.88235295, 0.88235295, 0.8745098 , 0.88235295,\n",
       "         0.75686276, 0.09019608, 0.05098039, 0.05882353, 0.05882353,\n",
       "         0.05882353, 0.05882353, 0.05882353],\n",
       "        [0.0627451 , 0.05882353, 0.05882353, 0.05882353, 0.05882353,\n",
       "         0.05882353, 0.03529412, 0.34509805, 0.8784314 , 0.8666667 ,\n",
       "         0.8784314 , 0.8862745 , 0.8862745 , 0.8862745 , 0.8862745 ,\n",
       "         0.8862745 , 0.8862745 , 0.8862745 , 0.8784314 , 0.88235295,\n",
       "         0.77254903, 0.09803922, 0.05098039, 0.05882353, 0.05882353,\n",
       "         0.05882353, 0.05882353, 0.05882353],\n",
       "        [0.0627451 , 0.05882353, 0.05882353, 0.05882353, 0.05882353,\n",
       "         0.05882353, 0.03529412, 0.33333334, 0.8784314 , 0.87058824,\n",
       "         0.8862745 , 0.8862745 , 0.8901961 , 0.8901961 , 0.8901961 ,\n",
       "         0.8901961 , 0.88235295, 0.8862745 , 0.88235295, 0.8862745 ,\n",
       "         0.78039217, 0.10588235, 0.05098039, 0.05882353, 0.05882353,\n",
       "         0.05882353, 0.05882353, 0.05882353],\n",
       "        [0.0627451 , 0.05882353, 0.05882353, 0.05882353, 0.05882353,\n",
       "         0.05882353, 0.03529412, 0.3529412 , 0.9098039 , 0.88235295,\n",
       "         0.8862745 , 0.8862745 , 0.8901961 , 0.8901961 , 0.8901961 ,\n",
       "         0.8901961 , 0.8862745 , 0.8862745 , 0.8862745 , 0.8862745 ,\n",
       "         0.8156863 , 0.1254902 , 0.04705882, 0.05882353, 0.05882353,\n",
       "         0.05882353, 0.05882353, 0.05882353],\n",
       "        [0.0627451 , 0.05882353, 0.05882353, 0.05882353, 0.05882353,\n",
       "         0.05882353, 0.05098039, 0.14901961, 0.5921569 , 0.827451  ,\n",
       "         0.89411765, 0.90588236, 0.9137255 , 0.9137255 , 0.9098039 ,\n",
       "         0.9098039 , 0.9098039 , 0.9098039 , 0.90588236, 0.8627451 ,\n",
       "         0.6392157 , 0.08627451, 0.05098039, 0.05882353, 0.05882353,\n",
       "         0.05882353, 0.05882353, 0.05882353],\n",
       "        [0.0627451 , 0.05882353, 0.05882353, 0.05882353, 0.05882353,\n",
       "         0.05882353, 0.05882353, 0.05098039, 0.05882353, 0.1882353 ,\n",
       "         0.36078432, 0.4862745 , 0.5686275 , 0.60784316, 0.6156863 ,\n",
       "         0.5882353 , 0.5686275 , 0.5254902 , 0.41568628, 0.23921569,\n",
       "         0.07450981, 0.05098039, 0.05882353, 0.05882353, 0.05882353,\n",
       "         0.05882353, 0.05882353, 0.05882353]]], dtype=float32)"
      ]
     },
     "execution_count": 48,
     "metadata": {},
     "output_type": "execute_result"
    }
   ],
   "source": [
    "# The image is normalized.\n",
    "\n",
    "img_array = img_array.astype('float32') / 255\n",
    "img_array"
   ]
  },
  {
   "cell_type": "code",
   "execution_count": 49,
   "id": "ca77e046-d8df-4893-8853-ec7743b61848",
   "metadata": {},
   "outputs": [
    {
     "data": {
      "image/png": "[encoded data removed]",
      "text/plain": [
       "<Figure size 300x300 with 1 Axes>"
      ]
     },
     "metadata": {},
     "output_type": "display_data"
    }
   ],
   "source": [
    "# The adjusted image is displayed.\n",
    "\n",
    "plt.figure(figsize=(3, 3)) \n",
    "plt.imshow(img_array[0], cmap='gray')\n",
    "plt.show()"
   ]
  },
  {
   "cell_type": "code",
   "execution_count": 50,
   "id": "f23f8b07",
   "metadata": {},
   "outputs": [
    {
     "name": "stdout",
     "output_type": "stream",
     "text": [
      "1/1 [==============================] - 0s 41ms/step\n"
     ]
    }
   ],
   "source": [
    "# Performing prediction on the image.\n",
    "\n",
    "predictionA = model.predict(img_array)"
   ]
  },
  {
   "cell_type": "code",
   "execution_count": 51,
   "id": "f7047c15-6cbe-4ecf-a2a7-64b4cf89b9cb",
   "metadata": {},
   "outputs": [
    {
     "name": "stdout",
     "output_type": "stream",
     "text": [
      "[[6.73778176e-01 1.42687195e-05 3.40927189e-04 7.22845942e-02\n",
      "  3.22588254e-04 1.56259745e-11 2.53259450e-01 6.19875969e-16\n",
      "  6.66856437e-08 1.03380046e-13]]\n"
     ]
    }
   ],
   "source": [
    "# Retrieving the prediction values of the model for our image.\n",
    "\n",
    "print(predictionA)"
   ]
  },
  {
   "cell_type": "code",
   "execution_count": 52,
   "id": "de051368",
   "metadata": {},
   "outputs": [
    {
     "data": {
      "text/plain": [
       "0"
      ]
     },
     "execution_count": 52,
     "metadata": {},
     "output_type": "execute_result"
    }
   ],
   "source": [
    "# Identifying the clothing item with the highest prediction value.\n",
    "\n",
    "np.argmax(predictionA)"
   ]
  },
  {
   "cell_type": "markdown",
   "id": "85226d8e-810e-4c6b-84bd-62226fa18758",
   "metadata": {},
   "source": [
    "**Summary**\n",
    "- Success: The neural network **correctly classified the shirt as a shirt**.\r\n",
    "\r\n",
    "\r\n"
   ]
  }
 ],
 "metadata": {
  "kernelspec": {
   "display_name": "Python 3 (ipykernel)",
   "language": "python",
   "name": "python3"
  },
  "language_info": {
   "codemirror_mode": {
    "name": "ipython",
    "version": 3
   },
   "file_extension": ".py",
   "mimetype": "text/x-python",
   "name": "python",
   "nbconvert_exporter": "python",
   "pygments_lexer": "ipython3",
   "version": "3.9.18"
  }
 },
 "nbformat": 4,
 "nbformat_minor": 5
}
